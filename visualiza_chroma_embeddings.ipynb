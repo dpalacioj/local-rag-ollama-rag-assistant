{
 "cells": [
  {
   "cell_type": "markdown",
   "id": "2560aea4",
   "metadata": {},
   "source": [
    "# Visualización de Embeddings y Documentos en ChromaDB\n",
    "\n",
    "Este notebook muestra cómo visualizar los embeddings y documentos almacenados en la base de datos vectorial Chroma que hemos creado. Utilizaremos Plotly para crear gráficas interactivas."
   ]
  },
  {
   "cell_type": "code",
   "execution_count": 7,
   "id": "7654fd30",
   "metadata": {},
   "outputs": [],
   "source": [
    "# Importamos las bibliotecas necesarias\n",
    "import pandas as pd\n",
    "import numpy as np\n",
    "import plotly.express as px\n",
    "import plotly.graph_objects as go\n",
    "from sklearn.decomposition import PCA\n",
    "from sklearn.manifold import TSNE\n",
    "from langchain_ollama import OllamaEmbeddings\n",
    "from langchain_chroma import Chroma"
   ]
  },
  {
   "cell_type": "markdown",
   "id": "d0aaab30",
   "metadata": {},
   "source": [
    "## Conexión a ChromaDB\n",
    "\n",
    "Primero conectamos a la base de datos Chroma existente:"
   ]
  },
  {
   "cell_type": "code",
   "execution_count": 8,
   "id": "14a50732",
   "metadata": {},
   "outputs": [
    {
     "name": "stdout",
     "output_type": "stream",
     "text": [
      "Conectado a la colección: AMVA-Reviews\n"
     ]
    }
   ],
   "source": [
    "# Configuramos el modelo de embeddings\n",
    "embeddings = OllamaEmbeddings(model=\"mxbai-embed-large\")\n",
    "\n",
    "# Conectamos a la base de datos\n",
    "db_location = \"./chroma_langchain_db\"\n",
    "vector_store = Chroma(\n",
    "    collection_name=\"AMVA-Reviews\",\n",
    "    persist_directory=db_location,\n",
    "    embedding_function=embeddings\n",
    ")\n",
    "\n",
    "print(f\"Conectado a la colección: {vector_store._collection.name}\")"
   ]
  },
  {
   "cell_type": "markdown",
   "id": "8ecb0801",
   "metadata": {},
   "source": [
    "## Recuperación de Documentos\n",
    "\n",
    "Vamos a recuperar todos los documentos almacenados en la base de datos:"
   ]
  },
  {
   "cell_type": "code",
   "execution_count": 9,
   "id": "c98e82f8",
   "metadata": {},
   "outputs": [
    {
     "name": "stdout",
     "output_type": "stream",
     "text": [
      "Total de documentos: 20\n"
     ]
    },
    {
     "data": {
      "text/html": [
       "<div>\n",
       "<style scoped>\n",
       "    .dataframe tbody tr th:only-of-type {\n",
       "        vertical-align: middle;\n",
       "    }\n",
       "\n",
       "    .dataframe tbody tr th {\n",
       "        vertical-align: top;\n",
       "    }\n",
       "\n",
       "    .dataframe thead th {\n",
       "        text-align: right;\n",
       "    }\n",
       "</style>\n",
       "<table border=\"1\" class=\"dataframe\">\n",
       "  <thead>\n",
       "    <tr style=\"text-align: right;\">\n",
       "      <th></th>\n",
       "      <th>id</th>\n",
       "      <th>document</th>\n",
       "      <th>metadata</th>\n",
       "      <th>location_type</th>\n",
       "    </tr>\n",
       "  </thead>\n",
       "  <tbody>\n",
       "    <tr>\n",
       "      <th>0</th>\n",
       "      <td>0</td>\n",
       "      <td>Belén 8.83 217501 Arepa de Choclo Parque Bibli...</td>\n",
       "      <td>{'Location-Type': 'Commune'}</td>\n",
       "      <td>Commune</td>\n",
       "    </tr>\n",
       "    <tr>\n",
       "      <th>1</th>\n",
       "      <td>1</td>\n",
       "      <td>La Candelaria 3.5 100000 Bandeja Paisa Plaza B...</td>\n",
       "      <td>{'Location-Type': 'Commune'}</td>\n",
       "      <td>Commune</td>\n",
       "    </tr>\n",
       "    <tr>\n",
       "      <th>2</th>\n",
       "      <td>2</td>\n",
       "      <td>El Poblado 23.1 130000 Sancocho Antioqueño Par...</td>\n",
       "      <td>{'Location-Type': 'Commune'}</td>\n",
       "      <td>Commune</td>\n",
       "    </tr>\n",
       "    <tr>\n",
       "      <th>3</th>\n",
       "      <td>3</td>\n",
       "      <td>Robledo 13.5 150000 Empanadas Cerro El Volador...</td>\n",
       "      <td>{'Location-Type': 'Commune'}</td>\n",
       "      <td>Commune</td>\n",
       "    </tr>\n",
       "    <tr>\n",
       "      <th>4</th>\n",
       "      <td>4</td>\n",
       "      <td>Manrique 7.5 120000 Chorizo Antioqueño Parque ...</td>\n",
       "      <td>{'Location-Type': 'Commune'}</td>\n",
       "      <td>Commune</td>\n",
       "    </tr>\n",
       "    <tr>\n",
       "      <th>5</th>\n",
       "      <td>5</td>\n",
       "      <td>Villa Hermosa 5.8 104450 Arepa de Queso Parque...</td>\n",
       "      <td>{'Location-Type': 'Commune'}</td>\n",
       "      <td>Commune</td>\n",
       "    </tr>\n",
       "    <tr>\n",
       "      <th>6</th>\n",
       "      <td>6</td>\n",
       "      <td>Guayabal 7.6 76355 Lechona Parque Juan Pablo I...</td>\n",
       "      <td>{'Location-Type': 'Commune'}</td>\n",
       "      <td>Commune</td>\n",
       "    </tr>\n",
       "    <tr>\n",
       "      <th>7</th>\n",
       "      <td>7</td>\n",
       "      <td>Castilla 6.2 110000 Frijoles con Chicharrón Pa...</td>\n",
       "      <td>{'Location-Type': 'Commune'}</td>\n",
       "      <td>Commune</td>\n",
       "    </tr>\n",
       "    <tr>\n",
       "      <th>8</th>\n",
       "      <td>8</td>\n",
       "      <td>Santa Cruz 5.5 95000 Chicharrón Parque Santa C...</td>\n",
       "      <td>{'Location-Type': 'Commune'}</td>\n",
       "      <td>Commune</td>\n",
       "    </tr>\n",
       "    <tr>\n",
       "      <th>9</th>\n",
       "      <td>9</td>\n",
       "      <td>Doce de Octubre 6.0 98000 Mondongo Parque Doce...</td>\n",
       "      <td>{'Location-Type': 'Commune'}</td>\n",
       "      <td>Commune</td>\n",
       "    </tr>\n",
       "    <tr>\n",
       "      <th>10</th>\n",
       "      <td>10</td>\n",
       "      <td>Medellín 380.64 2533424 Bandeja Paisa Plaza Bo...</td>\n",
       "      <td>{'Location-Type': 'Municipality'}</td>\n",
       "      <td>Municipality</td>\n",
       "    </tr>\n",
       "    <tr>\n",
       "      <th>11</th>\n",
       "      <td>11</td>\n",
       "      <td>Bello 142.36 532154 Arepa de Chocolo Puerta de...</td>\n",
       "      <td>{'Location-Type': 'Municipality'}</td>\n",
       "      <td>Municipality</td>\n",
       "    </tr>\n",
       "    <tr>\n",
       "      <th>12</th>\n",
       "      <td>12</td>\n",
       "      <td>Itagüí 21.09 276744 Empanadas Itagüí Central P...</td>\n",
       "      <td>{'Location-Type': 'Municipality'}</td>\n",
       "      <td>Municipality</td>\n",
       "    </tr>\n",
       "    <tr>\n",
       "      <th>13</th>\n",
       "      <td>13</td>\n",
       "      <td>Envigado 78.78 228848 Sancocho Antioqueño Envi...</td>\n",
       "      <td>{'Location-Type': 'Municipality'}</td>\n",
       "      <td>Municipality</td>\n",
       "    </tr>\n",
       "    <tr>\n",
       "      <th>14</th>\n",
       "      <td>14</td>\n",
       "      <td>Caldas 135.0 81275 Lechona La Valeria Ecologic...</td>\n",
       "      <td>{'Location-Type': 'Municipality'}</td>\n",
       "      <td>Municipality</td>\n",
       "    </tr>\n",
       "    <tr>\n",
       "      <th>15</th>\n",
       "      <td>15</td>\n",
       "      <td>Sabaneta 15.0 79638 Chicharrón Parque de Saban...</td>\n",
       "      <td>{'Location-Type': 'Municipality'}</td>\n",
       "      <td>Municipality</td>\n",
       "    </tr>\n",
       "    <tr>\n",
       "      <th>16</th>\n",
       "      <td>16</td>\n",
       "      <td>Copacabana 70.0 74884 Frijoles con Chicharrón ...</td>\n",
       "      <td>{'Location-Type': 'Municipality'}</td>\n",
       "      <td>Municipality</td>\n",
       "    </tr>\n",
       "    <tr>\n",
       "      <th>17</th>\n",
       "      <td>17</td>\n",
       "      <td>La Estrella 35.0 70445 Mondongo El Romeral Eco...</td>\n",
       "      <td>{'Location-Type': 'Municipality'}</td>\n",
       "      <td>Municipality</td>\n",
       "    </tr>\n",
       "    <tr>\n",
       "      <th>18</th>\n",
       "      <td>18</td>\n",
       "      <td>Girardota 78.0 63611 Arepa de Queso Parque Pri...</td>\n",
       "      <td>{'Location-Type': 'Municipality'}</td>\n",
       "      <td>Municipality</td>\n",
       "    </tr>\n",
       "    <tr>\n",
       "      <th>19</th>\n",
       "      <td>19</td>\n",
       "      <td>Barbosa 206.0 55969 Chorizo Antioqueño Parque ...</td>\n",
       "      <td>{'Location-Type': 'Municipality'}</td>\n",
       "      <td>Municipality</td>\n",
       "    </tr>\n",
       "  </tbody>\n",
       "</table>\n",
       "</div>"
      ],
      "text/plain": [
       "    id                                           document  \\\n",
       "0    0  Belén 8.83 217501 Arepa de Choclo Parque Bibli...   \n",
       "1    1  La Candelaria 3.5 100000 Bandeja Paisa Plaza B...   \n",
       "2    2  El Poblado 23.1 130000 Sancocho Antioqueño Par...   \n",
       "3    3  Robledo 13.5 150000 Empanadas Cerro El Volador...   \n",
       "4    4  Manrique 7.5 120000 Chorizo Antioqueño Parque ...   \n",
       "5    5  Villa Hermosa 5.8 104450 Arepa de Queso Parque...   \n",
       "6    6  Guayabal 7.6 76355 Lechona Parque Juan Pablo I...   \n",
       "7    7  Castilla 6.2 110000 Frijoles con Chicharrón Pa...   \n",
       "8    8  Santa Cruz 5.5 95000 Chicharrón Parque Santa C...   \n",
       "9    9  Doce de Octubre 6.0 98000 Mondongo Parque Doce...   \n",
       "10  10  Medellín 380.64 2533424 Bandeja Paisa Plaza Bo...   \n",
       "11  11  Bello 142.36 532154 Arepa de Chocolo Puerta de...   \n",
       "12  12  Itagüí 21.09 276744 Empanadas Itagüí Central P...   \n",
       "13  13  Envigado 78.78 228848 Sancocho Antioqueño Envi...   \n",
       "14  14  Caldas 135.0 81275 Lechona La Valeria Ecologic...   \n",
       "15  15  Sabaneta 15.0 79638 Chicharrón Parque de Saban...   \n",
       "16  16  Copacabana 70.0 74884 Frijoles con Chicharrón ...   \n",
       "17  17  La Estrella 35.0 70445 Mondongo El Romeral Eco...   \n",
       "18  18  Girardota 78.0 63611 Arepa de Queso Parque Pri...   \n",
       "19  19  Barbosa 206.0 55969 Chorizo Antioqueño Parque ...   \n",
       "\n",
       "                             metadata location_type  \n",
       "0        {'Location-Type': 'Commune'}       Commune  \n",
       "1        {'Location-Type': 'Commune'}       Commune  \n",
       "2        {'Location-Type': 'Commune'}       Commune  \n",
       "3        {'Location-Type': 'Commune'}       Commune  \n",
       "4        {'Location-Type': 'Commune'}       Commune  \n",
       "5        {'Location-Type': 'Commune'}       Commune  \n",
       "6        {'Location-Type': 'Commune'}       Commune  \n",
       "7        {'Location-Type': 'Commune'}       Commune  \n",
       "8        {'Location-Type': 'Commune'}       Commune  \n",
       "9        {'Location-Type': 'Commune'}       Commune  \n",
       "10  {'Location-Type': 'Municipality'}  Municipality  \n",
       "11  {'Location-Type': 'Municipality'}  Municipality  \n",
       "12  {'Location-Type': 'Municipality'}  Municipality  \n",
       "13  {'Location-Type': 'Municipality'}  Municipality  \n",
       "14  {'Location-Type': 'Municipality'}  Municipality  \n",
       "15  {'Location-Type': 'Municipality'}  Municipality  \n",
       "16  {'Location-Type': 'Municipality'}  Municipality  \n",
       "17  {'Location-Type': 'Municipality'}  Municipality  \n",
       "18  {'Location-Type': 'Municipality'}  Municipality  \n",
       "19  {'Location-Type': 'Municipality'}  Municipality  "
      ]
     },
     "execution_count": 9,
     "metadata": {},
     "output_type": "execute_result"
    }
   ],
   "source": [
    "# Obtener todos los documentos\n",
    "results = vector_store.get()\n",
    "\n",
    "# Crear un dataframe para facilitar la visualización\n",
    "documents_df = pd.DataFrame({\n",
    "    'id': results['ids'],\n",
    "    'document': results['documents'],\n",
    "    'metadata': results['metadatas']\n",
    "})\n",
    "\n",
    "# Extraer los tipos de ubicación\n",
    "location_types = []\n",
    "for metadata in results['metadatas']:\n",
    "    location_types.append(metadata['Location-Type'])\n",
    "\n",
    "documents_df['location_type'] = location_types\n",
    "\n",
    "print(f\"Total de documentos: {len(documents_df)}\")\n",
    "documents_df"
   ]
  },
  {
   "cell_type": "markdown",
   "id": "87fc95f9",
   "metadata": {},
   "source": [
    "## Visualización de Documentos por Tipo\n",
    "\n",
    "Visualicemos la distribución de documentos por tipo de ubicación:"
   ]
  },
  {
   "cell_type": "code",
   "execution_count": 10,
   "id": "e055a4ea",
   "metadata": {},
   "outputs": [
    {
     "data": {
      "application/vnd.plotly.v1+json": {
       "config": {
        "plotlyServerURL": "https://plot.ly"
       },
       "data": [
        {
         "hovertemplate": "Tipo de Ubicación=%{x}<br>Número de Documentos=%{y}<extra></extra>",
         "legendgroup": "Commune",
         "marker": {
          "color": "#636efa",
          "pattern": {
           "shape": ""
          }
         },
         "name": "Commune",
         "orientation": "v",
         "showlegend": true,
         "textposition": "auto",
         "type": "bar",
         "x": [
          "Commune"
         ],
         "xaxis": "x",
         "y": {
          "bdata": "Cg==",
          "dtype": "i1"
         },
         "yaxis": "y"
        },
        {
         "hovertemplate": "Tipo de Ubicación=%{x}<br>Número de Documentos=%{y}<extra></extra>",
         "legendgroup": "Municipality",
         "marker": {
          "color": "#EF553B",
          "pattern": {
           "shape": ""
          }
         },
         "name": "Municipality",
         "orientation": "v",
         "showlegend": true,
         "textposition": "auto",
         "type": "bar",
         "x": [
          "Municipality"
         ],
         "xaxis": "x",
         "y": {
          "bdata": "Cg==",
          "dtype": "i1"
         },
         "yaxis": "y"
        }
       ],
       "layout": {
        "barmode": "relative",
        "legend": {
         "title": {
          "text": "Tipo de Ubicación"
         },
         "tracegroupgap": 0
        },
        "template": {
         "data": {
          "bar": [
           {
            "error_x": {
             "color": "#2a3f5f"
            },
            "error_y": {
             "color": "#2a3f5f"
            },
            "marker": {
             "line": {
              "color": "white",
              "width": 0.5
             },
             "pattern": {
              "fillmode": "overlay",
              "size": 10,
              "solidity": 0.2
             }
            },
            "type": "bar"
           }
          ],
          "barpolar": [
           {
            "marker": {
             "line": {
              "color": "white",
              "width": 0.5
             },
             "pattern": {
              "fillmode": "overlay",
              "size": 10,
              "solidity": 0.2
             }
            },
            "type": "barpolar"
           }
          ],
          "carpet": [
           {
            "aaxis": {
             "endlinecolor": "#2a3f5f",
             "gridcolor": "#C8D4E3",
             "linecolor": "#C8D4E3",
             "minorgridcolor": "#C8D4E3",
             "startlinecolor": "#2a3f5f"
            },
            "baxis": {
             "endlinecolor": "#2a3f5f",
             "gridcolor": "#C8D4E3",
             "linecolor": "#C8D4E3",
             "minorgridcolor": "#C8D4E3",
             "startlinecolor": "#2a3f5f"
            },
            "type": "carpet"
           }
          ],
          "choropleth": [
           {
            "colorbar": {
             "outlinewidth": 0,
             "ticks": ""
            },
            "type": "choropleth"
           }
          ],
          "contour": [
           {
            "colorbar": {
             "outlinewidth": 0,
             "ticks": ""
            },
            "colorscale": [
             [
              0,
              "#0d0887"
             ],
             [
              0.1111111111111111,
              "#46039f"
             ],
             [
              0.2222222222222222,
              "#7201a8"
             ],
             [
              0.3333333333333333,
              "#9c179e"
             ],
             [
              0.4444444444444444,
              "#bd3786"
             ],
             [
              0.5555555555555556,
              "#d8576b"
             ],
             [
              0.6666666666666666,
              "#ed7953"
             ],
             [
              0.7777777777777778,
              "#fb9f3a"
             ],
             [
              0.8888888888888888,
              "#fdca26"
             ],
             [
              1,
              "#f0f921"
             ]
            ],
            "type": "contour"
           }
          ],
          "contourcarpet": [
           {
            "colorbar": {
             "outlinewidth": 0,
             "ticks": ""
            },
            "type": "contourcarpet"
           }
          ],
          "heatmap": [
           {
            "colorbar": {
             "outlinewidth": 0,
             "ticks": ""
            },
            "colorscale": [
             [
              0,
              "#0d0887"
             ],
             [
              0.1111111111111111,
              "#46039f"
             ],
             [
              0.2222222222222222,
              "#7201a8"
             ],
             [
              0.3333333333333333,
              "#9c179e"
             ],
             [
              0.4444444444444444,
              "#bd3786"
             ],
             [
              0.5555555555555556,
              "#d8576b"
             ],
             [
              0.6666666666666666,
              "#ed7953"
             ],
             [
              0.7777777777777778,
              "#fb9f3a"
             ],
             [
              0.8888888888888888,
              "#fdca26"
             ],
             [
              1,
              "#f0f921"
             ]
            ],
            "type": "heatmap"
           }
          ],
          "histogram": [
           {
            "marker": {
             "pattern": {
              "fillmode": "overlay",
              "size": 10,
              "solidity": 0.2
             }
            },
            "type": "histogram"
           }
          ],
          "histogram2d": [
           {
            "colorbar": {
             "outlinewidth": 0,
             "ticks": ""
            },
            "colorscale": [
             [
              0,
              "#0d0887"
             ],
             [
              0.1111111111111111,
              "#46039f"
             ],
             [
              0.2222222222222222,
              "#7201a8"
             ],
             [
              0.3333333333333333,
              "#9c179e"
             ],
             [
              0.4444444444444444,
              "#bd3786"
             ],
             [
              0.5555555555555556,
              "#d8576b"
             ],
             [
              0.6666666666666666,
              "#ed7953"
             ],
             [
              0.7777777777777778,
              "#fb9f3a"
             ],
             [
              0.8888888888888888,
              "#fdca26"
             ],
             [
              1,
              "#f0f921"
             ]
            ],
            "type": "histogram2d"
           }
          ],
          "histogram2dcontour": [
           {
            "colorbar": {
             "outlinewidth": 0,
             "ticks": ""
            },
            "colorscale": [
             [
              0,
              "#0d0887"
             ],
             [
              0.1111111111111111,
              "#46039f"
             ],
             [
              0.2222222222222222,
              "#7201a8"
             ],
             [
              0.3333333333333333,
              "#9c179e"
             ],
             [
              0.4444444444444444,
              "#bd3786"
             ],
             [
              0.5555555555555556,
              "#d8576b"
             ],
             [
              0.6666666666666666,
              "#ed7953"
             ],
             [
              0.7777777777777778,
              "#fb9f3a"
             ],
             [
              0.8888888888888888,
              "#fdca26"
             ],
             [
              1,
              "#f0f921"
             ]
            ],
            "type": "histogram2dcontour"
           }
          ],
          "mesh3d": [
           {
            "colorbar": {
             "outlinewidth": 0,
             "ticks": ""
            },
            "type": "mesh3d"
           }
          ],
          "parcoords": [
           {
            "line": {
             "colorbar": {
              "outlinewidth": 0,
              "ticks": ""
             }
            },
            "type": "parcoords"
           }
          ],
          "pie": [
           {
            "automargin": true,
            "type": "pie"
           }
          ],
          "scatter": [
           {
            "fillpattern": {
             "fillmode": "overlay",
             "size": 10,
             "solidity": 0.2
            },
            "type": "scatter"
           }
          ],
          "scatter3d": [
           {
            "line": {
             "colorbar": {
              "outlinewidth": 0,
              "ticks": ""
             }
            },
            "marker": {
             "colorbar": {
              "outlinewidth": 0,
              "ticks": ""
             }
            },
            "type": "scatter3d"
           }
          ],
          "scattercarpet": [
           {
            "marker": {
             "colorbar": {
              "outlinewidth": 0,
              "ticks": ""
             }
            },
            "type": "scattercarpet"
           }
          ],
          "scattergeo": [
           {
            "marker": {
             "colorbar": {
              "outlinewidth": 0,
              "ticks": ""
             }
            },
            "type": "scattergeo"
           }
          ],
          "scattergl": [
           {
            "marker": {
             "colorbar": {
              "outlinewidth": 0,
              "ticks": ""
             }
            },
            "type": "scattergl"
           }
          ],
          "scattermap": [
           {
            "marker": {
             "colorbar": {
              "outlinewidth": 0,
              "ticks": ""
             }
            },
            "type": "scattermap"
           }
          ],
          "scattermapbox": [
           {
            "marker": {
             "colorbar": {
              "outlinewidth": 0,
              "ticks": ""
             }
            },
            "type": "scattermapbox"
           }
          ],
          "scatterpolar": [
           {
            "marker": {
             "colorbar": {
              "outlinewidth": 0,
              "ticks": ""
             }
            },
            "type": "scatterpolar"
           }
          ],
          "scatterpolargl": [
           {
            "marker": {
             "colorbar": {
              "outlinewidth": 0,
              "ticks": ""
             }
            },
            "type": "scatterpolargl"
           }
          ],
          "scatterternary": [
           {
            "marker": {
             "colorbar": {
              "outlinewidth": 0,
              "ticks": ""
             }
            },
            "type": "scatterternary"
           }
          ],
          "surface": [
           {
            "colorbar": {
             "outlinewidth": 0,
             "ticks": ""
            },
            "colorscale": [
             [
              0,
              "#0d0887"
             ],
             [
              0.1111111111111111,
              "#46039f"
             ],
             [
              0.2222222222222222,
              "#7201a8"
             ],
             [
              0.3333333333333333,
              "#9c179e"
             ],
             [
              0.4444444444444444,
              "#bd3786"
             ],
             [
              0.5555555555555556,
              "#d8576b"
             ],
             [
              0.6666666666666666,
              "#ed7953"
             ],
             [
              0.7777777777777778,
              "#fb9f3a"
             ],
             [
              0.8888888888888888,
              "#fdca26"
             ],
             [
              1,
              "#f0f921"
             ]
            ],
            "type": "surface"
           }
          ],
          "table": [
           {
            "cells": {
             "fill": {
              "color": "#EBF0F8"
             },
             "line": {
              "color": "white"
             }
            },
            "header": {
             "fill": {
              "color": "#C8D4E3"
             },
             "line": {
              "color": "white"
             }
            },
            "type": "table"
           }
          ]
         },
         "layout": {
          "annotationdefaults": {
           "arrowcolor": "#2a3f5f",
           "arrowhead": 0,
           "arrowwidth": 1
          },
          "autotypenumbers": "strict",
          "coloraxis": {
           "colorbar": {
            "outlinewidth": 0,
            "ticks": ""
           }
          },
          "colorscale": {
           "diverging": [
            [
             0,
             "#8e0152"
            ],
            [
             0.1,
             "#c51b7d"
            ],
            [
             0.2,
             "#de77ae"
            ],
            [
             0.3,
             "#f1b6da"
            ],
            [
             0.4,
             "#fde0ef"
            ],
            [
             0.5,
             "#f7f7f7"
            ],
            [
             0.6,
             "#e6f5d0"
            ],
            [
             0.7,
             "#b8e186"
            ],
            [
             0.8,
             "#7fbc41"
            ],
            [
             0.9,
             "#4d9221"
            ],
            [
             1,
             "#276419"
            ]
           ],
           "sequential": [
            [
             0,
             "#0d0887"
            ],
            [
             0.1111111111111111,
             "#46039f"
            ],
            [
             0.2222222222222222,
             "#7201a8"
            ],
            [
             0.3333333333333333,
             "#9c179e"
            ],
            [
             0.4444444444444444,
             "#bd3786"
            ],
            [
             0.5555555555555556,
             "#d8576b"
            ],
            [
             0.6666666666666666,
             "#ed7953"
            ],
            [
             0.7777777777777778,
             "#fb9f3a"
            ],
            [
             0.8888888888888888,
             "#fdca26"
            ],
            [
             1,
             "#f0f921"
            ]
           ],
           "sequentialminus": [
            [
             0,
             "#0d0887"
            ],
            [
             0.1111111111111111,
             "#46039f"
            ],
            [
             0.2222222222222222,
             "#7201a8"
            ],
            [
             0.3333333333333333,
             "#9c179e"
            ],
            [
             0.4444444444444444,
             "#bd3786"
            ],
            [
             0.5555555555555556,
             "#d8576b"
            ],
            [
             0.6666666666666666,
             "#ed7953"
            ],
            [
             0.7777777777777778,
             "#fb9f3a"
            ],
            [
             0.8888888888888888,
             "#fdca26"
            ],
            [
             1,
             "#f0f921"
            ]
           ]
          },
          "colorway": [
           "#636efa",
           "#EF553B",
           "#00cc96",
           "#ab63fa",
           "#FFA15A",
           "#19d3f3",
           "#FF6692",
           "#B6E880",
           "#FF97FF",
           "#FECB52"
          ],
          "font": {
           "color": "#2a3f5f"
          },
          "geo": {
           "bgcolor": "white",
           "lakecolor": "white",
           "landcolor": "white",
           "showlakes": true,
           "showland": true,
           "subunitcolor": "#C8D4E3"
          },
          "hoverlabel": {
           "align": "left"
          },
          "hovermode": "closest",
          "mapbox": {
           "style": "light"
          },
          "paper_bgcolor": "white",
          "plot_bgcolor": "white",
          "polar": {
           "angularaxis": {
            "gridcolor": "#EBF0F8",
            "linecolor": "#EBF0F8",
            "ticks": ""
           },
           "bgcolor": "white",
           "radialaxis": {
            "gridcolor": "#EBF0F8",
            "linecolor": "#EBF0F8",
            "ticks": ""
           }
          },
          "scene": {
           "xaxis": {
            "backgroundcolor": "white",
            "gridcolor": "#DFE8F3",
            "gridwidth": 2,
            "linecolor": "#EBF0F8",
            "showbackground": true,
            "ticks": "",
            "zerolinecolor": "#EBF0F8"
           },
           "yaxis": {
            "backgroundcolor": "white",
            "gridcolor": "#DFE8F3",
            "gridwidth": 2,
            "linecolor": "#EBF0F8",
            "showbackground": true,
            "ticks": "",
            "zerolinecolor": "#EBF0F8"
           },
           "zaxis": {
            "backgroundcolor": "white",
            "gridcolor": "#DFE8F3",
            "gridwidth": 2,
            "linecolor": "#EBF0F8",
            "showbackground": true,
            "ticks": "",
            "zerolinecolor": "#EBF0F8"
           }
          },
          "shapedefaults": {
           "line": {
            "color": "#2a3f5f"
           }
          },
          "ternary": {
           "aaxis": {
            "gridcolor": "#DFE8F3",
            "linecolor": "#A2B1C6",
            "ticks": ""
           },
           "baxis": {
            "gridcolor": "#DFE8F3",
            "linecolor": "#A2B1C6",
            "ticks": ""
           },
           "bgcolor": "white",
           "caxis": {
            "gridcolor": "#DFE8F3",
            "linecolor": "#A2B1C6",
            "ticks": ""
           }
          },
          "title": {
           "x": 0.05
          },
          "xaxis": {
           "automargin": true,
           "gridcolor": "#EBF0F8",
           "linecolor": "#EBF0F8",
           "ticks": "",
           "title": {
            "standoff": 15
           },
           "zerolinecolor": "#EBF0F8",
           "zerolinewidth": 2
          },
          "yaxis": {
           "automargin": true,
           "gridcolor": "#EBF0F8",
           "linecolor": "#EBF0F8",
           "ticks": "",
           "title": {
            "standoff": 15
           },
           "zerolinecolor": "#EBF0F8",
           "zerolinewidth": 2
          }
         }
        },
        "title": {
         "text": "Distribución de Documentos por Tipo de Ubicación"
        },
        "xaxis": {
         "anchor": "y",
         "categoryarray": [
          "Commune",
          "Municipality"
         ],
         "categoryorder": "array",
         "domain": [
          0,
          1
         ],
         "title": {
          "text": "Tipo de Ubicación"
         }
        },
        "yaxis": {
         "anchor": "x",
         "domain": [
          0,
          1
         ],
         "title": {
          "text": "Número de Documentos"
         }
        }
       }
      }
     },
     "metadata": {},
     "output_type": "display_data"
    }
   ],
   "source": [
    "# Contar los tipos de ubicaciones\n",
    "location_counts = pd.Series(location_types).value_counts().reset_index()\n",
    "location_counts.columns = ['Tipo', 'Cantidad']\n",
    "\n",
    "# Crear gráfico de barras con Plotly\n",
    "fig = px.bar(\n",
    "    location_counts, \n",
    "    x='Tipo', \n",
    "    y='Cantidad',\n",
    "    color='Tipo',\n",
    "    title='Distribución de Documentos por Tipo de Ubicación',\n",
    "    labels={'Tipo': 'Tipo de Ubicación', 'Cantidad': 'Número de Documentos'},\n",
    "    template='plotly_white'\n",
    ")\n",
    "\n",
    "fig.update_layout(xaxis_title='Tipo de Ubicación', yaxis_title='Número de Documentos')\n",
    "fig.show()"
   ]
  },
  {
   "cell_type": "markdown",
   "id": "b2383000",
   "metadata": {},
   "source": [
    "## Obtención y Visualización de Embeddings\n",
    "\n",
    "Ahora vamos a obtener los embeddings de los documentos. Si Chroma no los devuelve directamente, los generaremos manualmente:"
   ]
  },
  {
   "cell_type": "code",
   "execution_count": 11,
   "id": "cffdc929",
   "metadata": {},
   "outputs": [
    {
     "name": "stdout",
     "output_type": "stream",
     "text": [
      "Generando embeddings manualmente...\n",
      "Embeddings generados: 20\n",
      "Dimensiones del array de embeddings: (20, 1024)\n",
      "Media de valores: -0.00013099255779127155\n",
      "Desviación estándar: 0.031249724073849534\n",
      "\n",
      "Primeros 10 valores del primer embedding:\n",
      "[-0.04342313  0.01965761  0.00702177  0.00271206  0.01587664  0.02088998\n",
      " -0.03535728  0.0083636   0.03835624  0.0282686 ]\n"
     ]
    }
   ],
   "source": [
    "# Intentar acceder a los embeddings directamente desde Chroma\n",
    "embeddings_data = results.get('embeddings')\n",
    "\n",
    "# Si los embeddings no están disponibles, generarlos manualmente\n",
    "if not embeddings_data:\n",
    "    print(\"Generando embeddings manualmente...\")\n",
    "    embeddings_data = []\n",
    "    \n",
    "    for doc in results['documents']:\n",
    "        emb = embeddings.embed_query(doc)\n",
    "        embeddings_data.append(emb)\n",
    "    \n",
    "    print(f\"Embeddings generados: {len(embeddings_data)}\")\n",
    "else:\n",
    "    print(f\"Embeddings recuperados directamente: {len(embeddings_data)}\")\n",
    "\n",
    "# Convertir a array numpy para análisis\n",
    "embeddings_array = np.array(embeddings_data)\n",
    "\n",
    "print(f\"Dimensiones del array de embeddings: {embeddings_array.shape}\")\n",
    "print(f\"Media de valores: {np.mean(embeddings_array)}\")\n",
    "print(f\"Desviación estándar: {np.std(embeddings_array)}\")\n",
    "\n",
    "# Mostrar un ejemplo de embedding\n",
    "print(\"\\nPrimeros 10 valores del primer embedding:\")\n",
    "print(embeddings_array[0][:10])"
   ]
  },
  {
   "cell_type": "markdown",
   "id": "4455ebff",
   "metadata": {},
   "source": [
    "## Visualización de Embeddings con Reducción de Dimensionalidad\n",
    "\n",
    "Los embeddings son vectores de alta dimensionalidad (cientos o miles de dimensiones), por lo que necesitamos reducir su dimensionalidad para visualizarlos. Usaremos PCA y t-SNE:"
   ]
  },
  {
   "cell_type": "code",
   "execution_count": 16,
   "id": "3079b400",
   "metadata": {},
   "outputs": [
    {
     "name": "stdout",
     "output_type": "stream",
     "text": [
      "Verificando datos: NaN: False, Inf: False\n",
      "Valor mínimo: -0.12222213, Valor máximo: 0.2263778\n",
      "Después de limpieza: NaN: False, Inf: False\n",
      "Valor mínimo: -5.476346766702235, Valor máximo: 8.743462787306358\n",
      "Varianza explicada por cada componente:\n",
      "Componente 1: 9.78%\n",
      "Componente 2: 8.73%\n",
      "Componente 3: 8.22%\n",
      "Total: 26.72%\n"
     ]
    },
    {
     "data": {
      "application/vnd.plotly.v1+json": {
       "config": {
        "plotlyServerURL": "https://plot.ly"
       },
       "data": [
        {
         "customdata": [
          [
           "Belén 8.83 217501 Arepa de Choclo Parque Biblioteca Belén 450"
          ],
          [
           "La Candelaria 3.5 100000 Bandeja Paisa Plaza Botero 500"
          ],
          [
           "El Poblado 23.1 130000 Sancocho Antioqueño Parque Lleras 800"
          ],
          [
           "Robledo 13.5 150000 Empanadas Cerro El Volador 400"
          ],
          [
           "Manrique 7.5 120000 Chorizo Antioqueño Parque de los Deseos 380"
          ],
          [
           "Villa Hermosa 5.8 104450 Arepa de Queso Parque Biblioteca León de Greiff 390"
          ],
          [
           "Guayabal 7.6 76355 Lechona Parque Juan Pablo II 420"
          ],
          [
           "Castilla 6.2 110000 Frijoles con Chicharrón Parque Juanes de la Paz 370"
          ],
          [
           "Santa Cruz 5.5 95000 Chicharrón Parque Santa Cruz 360"
          ],
          [
           "Doce de Octubre 6.0 98000 Mondongo Parque Doce de Octubre 365"
          ]
         ],
         "hovertemplate": "tipo=Commune<br>Componente 1 (9.78%)=%{x}<br>Componente 2 (8.73%)=%{y}<br>Componente 3 (8.22%)=%{z}<br>documento=%{text}<br>documento_completo=%{customdata[0]}<extra></extra>",
         "legendgroup": "Commune",
         "marker": {
          "color": "#636efa",
          "opacity": 0.8,
          "size": 10,
          "symbol": "circle"
         },
         "mode": "markers+text",
         "name": "Commune",
         "scene": "scene",
         "showlegend": true,
         "text": [
          "Belén",
          "La",
          "El",
          "Robledo",
          "Manrique",
          "Villa",
          "Guayabal",
          "Castilla",
          "Santa",
          "Doce"
         ],
         "textposition": "top center",
         "type": "scatter3d",
         "x": {
          "bdata": "GtNUfqdwEkDbxCsBEe8ZQGTNqYLpvCFAwhXM7CsgI8B3+kTO3jQiwAcF54x0rRVAP/apL6pt4T9dTOCuPdsjwC4rF/KnbhDAjyqnYogfF8A=",
          "dtype": "f8"
         },
         "y": {
          "bdata": "lgyOM5Hf6T9SrT/pvI8pwIZBHjI3xh5AZ5P4B35KDsAXTCfvixElQLv7Ch375A5AXViLSgo4+L+zOUbJipoDQKJXzYUe6yNAIFCwdaCaBsA=",
          "dtype": "f8"
         },
         "z": {
          "bdata": "EvOC4APuBMA6stnrzHokQBpZPalguxXAO18DF7jVMEALuwgbas0QQO9kT0pkgARAebpYJFH3GsCwiqPTFsHpP0bUrctTpAxAvLQI0jA2I8A=",
          "dtype": "f8"
         }
        },
        {
         "customdata": [
          [
           "Medellín 380.64 2533424 Bandeja Paisa Plaza Botero 850"
          ],
          [
           "Bello 142.36 532154 Arepa de Chocolo Puerta del Norte Shopping Center 700"
          ],
          [
           "Itagüí 21.09 276744 Empanadas Itagüí Central Park 650"
          ],
          [
           "Envigado 78.78 228848 Sancocho Antioqueño Envigado Cultural Center 800"
          ],
          [
           "Caldas 135.0 81275 Lechona La Valeria Ecological Park 500"
          ],
          [
           "Sabaneta 15.0 79638 Chicharrón Parque de Sabaneta 750"
          ],
          [
           "Copacabana 70.0 74884 Frijoles con Chicharrón Cerro de la Virgen 600"
          ],
          [
           "La Estrella 35.0 70445 Mondongo El Romeral Ecological Reserve 620"
          ],
          [
           "Girardota 78.0 63611 Arepa de Queso Parque Principal de Girardota 580"
          ],
          [
           "Barbosa 206.0 55969 Chorizo Antioqueño Parque de las Aguas 550"
          ]
         ],
         "hovertemplate": "tipo=Municipality<br>Componente 1 (9.78%)=%{x}<br>Componente 2 (8.73%)=%{y}<br>Componente 3 (8.22%)=%{z}<br>documento=%{text}<br>documento_completo=%{customdata[0]}<extra></extra>",
         "legendgroup": "Municipality",
         "marker": {
          "color": "#EF553B",
          "opacity": 0.8,
          "size": 10,
          "symbol": "circle"
         },
         "mode": "markers+text",
         "name": "Municipality",
         "scene": "scene",
         "showlegend": true,
         "text": [
          "Medellín",
          "Bello",
          "Itagüí",
          "Envigado",
          "Caldas",
          "Sabaneta",
          "Copacabana",
          "La",
          "Girardota",
          "Barbosa"
         ],
         "textposition": "top center",
         "type": "scatter3d",
         "x": {
          "bdata": "O0JKixKvKEB3FhuZZL4fQILFbAwh+xNAiin2Xn0fMkDxK1y2iV0hwLfie7Vkh/y/kSct5fFT6b/HevlrYAcrwNWFKuOD2wHAnIB+jU2vDsA=",
          "dtype": "f8"
         },
         "y": {
          "bdata": "zzDdZZioLMAWNND8YUgBwGuC2hTOMOM/fn9mY/glC0DhMFvTp6ImwOMXO2Pg9hdAQ0Sd1aJy+T+8Pr9c1X0swKpiY88SNB1AP94rXjqNIUA=",
          "dtype": "f8"
         },
         "z": {
          "bdata": "sj74F6vLGUCqaCDGVxsbQHDYDG/ILAJAnjteXqCsKcDplBqEUiMgwNnmRQ7+T/6/kvv14F5UHEAz113H9sMowPW9/fqzAPO/eB9FdfkJor8=",
          "dtype": "f8"
         }
        }
       ],
       "layout": {
        "height": 800,
        "legend": {
         "title": {
          "text": "Tipo de Ubicación"
         },
         "tracegroupgap": 0
        },
        "margin": {
         "b": 0,
         "l": 0,
         "r": 0,
         "t": 40
        },
        "scene": {
         "domain": {
          "x": [
           0,
           1
          ],
          "y": [
           0,
           1
          ]
         },
         "xaxis": {
          "title": {
           "text": "Componente 1 (9.78%)"
          }
         },
         "yaxis": {
          "title": {
           "text": "Componente 2 (8.73%)"
          }
         },
         "zaxis": {
          "title": {
           "text": "Componente 3 (8.22%)"
          }
         }
        },
        "template": {
         "data": {
          "bar": [
           {
            "error_x": {
             "color": "#2a3f5f"
            },
            "error_y": {
             "color": "#2a3f5f"
            },
            "marker": {
             "line": {
              "color": "#E5ECF6",
              "width": 0.5
             },
             "pattern": {
              "fillmode": "overlay",
              "size": 10,
              "solidity": 0.2
             }
            },
            "type": "bar"
           }
          ],
          "barpolar": [
           {
            "marker": {
             "line": {
              "color": "#E5ECF6",
              "width": 0.5
             },
             "pattern": {
              "fillmode": "overlay",
              "size": 10,
              "solidity": 0.2
             }
            },
            "type": "barpolar"
           }
          ],
          "carpet": [
           {
            "aaxis": {
             "endlinecolor": "#2a3f5f",
             "gridcolor": "white",
             "linecolor": "white",
             "minorgridcolor": "white",
             "startlinecolor": "#2a3f5f"
            },
            "baxis": {
             "endlinecolor": "#2a3f5f",
             "gridcolor": "white",
             "linecolor": "white",
             "minorgridcolor": "white",
             "startlinecolor": "#2a3f5f"
            },
            "type": "carpet"
           }
          ],
          "choropleth": [
           {
            "colorbar": {
             "outlinewidth": 0,
             "ticks": ""
            },
            "type": "choropleth"
           }
          ],
          "contour": [
           {
            "colorbar": {
             "outlinewidth": 0,
             "ticks": ""
            },
            "colorscale": [
             [
              0,
              "#0d0887"
             ],
             [
              0.1111111111111111,
              "#46039f"
             ],
             [
              0.2222222222222222,
              "#7201a8"
             ],
             [
              0.3333333333333333,
              "#9c179e"
             ],
             [
              0.4444444444444444,
              "#bd3786"
             ],
             [
              0.5555555555555556,
              "#d8576b"
             ],
             [
              0.6666666666666666,
              "#ed7953"
             ],
             [
              0.7777777777777778,
              "#fb9f3a"
             ],
             [
              0.8888888888888888,
              "#fdca26"
             ],
             [
              1,
              "#f0f921"
             ]
            ],
            "type": "contour"
           }
          ],
          "contourcarpet": [
           {
            "colorbar": {
             "outlinewidth": 0,
             "ticks": ""
            },
            "type": "contourcarpet"
           }
          ],
          "heatmap": [
           {
            "colorbar": {
             "outlinewidth": 0,
             "ticks": ""
            },
            "colorscale": [
             [
              0,
              "#0d0887"
             ],
             [
              0.1111111111111111,
              "#46039f"
             ],
             [
              0.2222222222222222,
              "#7201a8"
             ],
             [
              0.3333333333333333,
              "#9c179e"
             ],
             [
              0.4444444444444444,
              "#bd3786"
             ],
             [
              0.5555555555555556,
              "#d8576b"
             ],
             [
              0.6666666666666666,
              "#ed7953"
             ],
             [
              0.7777777777777778,
              "#fb9f3a"
             ],
             [
              0.8888888888888888,
              "#fdca26"
             ],
             [
              1,
              "#f0f921"
             ]
            ],
            "type": "heatmap"
           }
          ],
          "histogram": [
           {
            "marker": {
             "pattern": {
              "fillmode": "overlay",
              "size": 10,
              "solidity": 0.2
             }
            },
            "type": "histogram"
           }
          ],
          "histogram2d": [
           {
            "colorbar": {
             "outlinewidth": 0,
             "ticks": ""
            },
            "colorscale": [
             [
              0,
              "#0d0887"
             ],
             [
              0.1111111111111111,
              "#46039f"
             ],
             [
              0.2222222222222222,
              "#7201a8"
             ],
             [
              0.3333333333333333,
              "#9c179e"
             ],
             [
              0.4444444444444444,
              "#bd3786"
             ],
             [
              0.5555555555555556,
              "#d8576b"
             ],
             [
              0.6666666666666666,
              "#ed7953"
             ],
             [
              0.7777777777777778,
              "#fb9f3a"
             ],
             [
              0.8888888888888888,
              "#fdca26"
             ],
             [
              1,
              "#f0f921"
             ]
            ],
            "type": "histogram2d"
           }
          ],
          "histogram2dcontour": [
           {
            "colorbar": {
             "outlinewidth": 0,
             "ticks": ""
            },
            "colorscale": [
             [
              0,
              "#0d0887"
             ],
             [
              0.1111111111111111,
              "#46039f"
             ],
             [
              0.2222222222222222,
              "#7201a8"
             ],
             [
              0.3333333333333333,
              "#9c179e"
             ],
             [
              0.4444444444444444,
              "#bd3786"
             ],
             [
              0.5555555555555556,
              "#d8576b"
             ],
             [
              0.6666666666666666,
              "#ed7953"
             ],
             [
              0.7777777777777778,
              "#fb9f3a"
             ],
             [
              0.8888888888888888,
              "#fdca26"
             ],
             [
              1,
              "#f0f921"
             ]
            ],
            "type": "histogram2dcontour"
           }
          ],
          "mesh3d": [
           {
            "colorbar": {
             "outlinewidth": 0,
             "ticks": ""
            },
            "type": "mesh3d"
           }
          ],
          "parcoords": [
           {
            "line": {
             "colorbar": {
              "outlinewidth": 0,
              "ticks": ""
             }
            },
            "type": "parcoords"
           }
          ],
          "pie": [
           {
            "automargin": true,
            "type": "pie"
           }
          ],
          "scatter": [
           {
            "fillpattern": {
             "fillmode": "overlay",
             "size": 10,
             "solidity": 0.2
            },
            "type": "scatter"
           }
          ],
          "scatter3d": [
           {
            "line": {
             "colorbar": {
              "outlinewidth": 0,
              "ticks": ""
             }
            },
            "marker": {
             "colorbar": {
              "outlinewidth": 0,
              "ticks": ""
             }
            },
            "type": "scatter3d"
           }
          ],
          "scattercarpet": [
           {
            "marker": {
             "colorbar": {
              "outlinewidth": 0,
              "ticks": ""
             }
            },
            "type": "scattercarpet"
           }
          ],
          "scattergeo": [
           {
            "marker": {
             "colorbar": {
              "outlinewidth": 0,
              "ticks": ""
             }
            },
            "type": "scattergeo"
           }
          ],
          "scattergl": [
           {
            "marker": {
             "colorbar": {
              "outlinewidth": 0,
              "ticks": ""
             }
            },
            "type": "scattergl"
           }
          ],
          "scattermap": [
           {
            "marker": {
             "colorbar": {
              "outlinewidth": 0,
              "ticks": ""
             }
            },
            "type": "scattermap"
           }
          ],
          "scattermapbox": [
           {
            "marker": {
             "colorbar": {
              "outlinewidth": 0,
              "ticks": ""
             }
            },
            "type": "scattermapbox"
           }
          ],
          "scatterpolar": [
           {
            "marker": {
             "colorbar": {
              "outlinewidth": 0,
              "ticks": ""
             }
            },
            "type": "scatterpolar"
           }
          ],
          "scatterpolargl": [
           {
            "marker": {
             "colorbar": {
              "outlinewidth": 0,
              "ticks": ""
             }
            },
            "type": "scatterpolargl"
           }
          ],
          "scatterternary": [
           {
            "marker": {
             "colorbar": {
              "outlinewidth": 0,
              "ticks": ""
             }
            },
            "type": "scatterternary"
           }
          ],
          "surface": [
           {
            "colorbar": {
             "outlinewidth": 0,
             "ticks": ""
            },
            "colorscale": [
             [
              0,
              "#0d0887"
             ],
             [
              0.1111111111111111,
              "#46039f"
             ],
             [
              0.2222222222222222,
              "#7201a8"
             ],
             [
              0.3333333333333333,
              "#9c179e"
             ],
             [
              0.4444444444444444,
              "#bd3786"
             ],
             [
              0.5555555555555556,
              "#d8576b"
             ],
             [
              0.6666666666666666,
              "#ed7953"
             ],
             [
              0.7777777777777778,
              "#fb9f3a"
             ],
             [
              0.8888888888888888,
              "#fdca26"
             ],
             [
              1,
              "#f0f921"
             ]
            ],
            "type": "surface"
           }
          ],
          "table": [
           {
            "cells": {
             "fill": {
              "color": "#EBF0F8"
             },
             "line": {
              "color": "white"
             }
            },
            "header": {
             "fill": {
              "color": "#C8D4E3"
             },
             "line": {
              "color": "white"
             }
            },
            "type": "table"
           }
          ]
         },
         "layout": {
          "annotationdefaults": {
           "arrowcolor": "#2a3f5f",
           "arrowhead": 0,
           "arrowwidth": 1
          },
          "autotypenumbers": "strict",
          "coloraxis": {
           "colorbar": {
            "outlinewidth": 0,
            "ticks": ""
           }
          },
          "colorscale": {
           "diverging": [
            [
             0,
             "#8e0152"
            ],
            [
             0.1,
             "#c51b7d"
            ],
            [
             0.2,
             "#de77ae"
            ],
            [
             0.3,
             "#f1b6da"
            ],
            [
             0.4,
             "#fde0ef"
            ],
            [
             0.5,
             "#f7f7f7"
            ],
            [
             0.6,
             "#e6f5d0"
            ],
            [
             0.7,
             "#b8e186"
            ],
            [
             0.8,
             "#7fbc41"
            ],
            [
             0.9,
             "#4d9221"
            ],
            [
             1,
             "#276419"
            ]
           ],
           "sequential": [
            [
             0,
             "#0d0887"
            ],
            [
             0.1111111111111111,
             "#46039f"
            ],
            [
             0.2222222222222222,
             "#7201a8"
            ],
            [
             0.3333333333333333,
             "#9c179e"
            ],
            [
             0.4444444444444444,
             "#bd3786"
            ],
            [
             0.5555555555555556,
             "#d8576b"
            ],
            [
             0.6666666666666666,
             "#ed7953"
            ],
            [
             0.7777777777777778,
             "#fb9f3a"
            ],
            [
             0.8888888888888888,
             "#fdca26"
            ],
            [
             1,
             "#f0f921"
            ]
           ],
           "sequentialminus": [
            [
             0,
             "#0d0887"
            ],
            [
             0.1111111111111111,
             "#46039f"
            ],
            [
             0.2222222222222222,
             "#7201a8"
            ],
            [
             0.3333333333333333,
             "#9c179e"
            ],
            [
             0.4444444444444444,
             "#bd3786"
            ],
            [
             0.5555555555555556,
             "#d8576b"
            ],
            [
             0.6666666666666666,
             "#ed7953"
            ],
            [
             0.7777777777777778,
             "#fb9f3a"
            ],
            [
             0.8888888888888888,
             "#fdca26"
            ],
            [
             1,
             "#f0f921"
            ]
           ]
          },
          "colorway": [
           "#636efa",
           "#EF553B",
           "#00cc96",
           "#ab63fa",
           "#FFA15A",
           "#19d3f3",
           "#FF6692",
           "#B6E880",
           "#FF97FF",
           "#FECB52"
          ],
          "font": {
           "color": "#2a3f5f"
          },
          "geo": {
           "bgcolor": "white",
           "lakecolor": "white",
           "landcolor": "#E5ECF6",
           "showlakes": true,
           "showland": true,
           "subunitcolor": "white"
          },
          "hoverlabel": {
           "align": "left"
          },
          "hovermode": "closest",
          "mapbox": {
           "style": "light"
          },
          "paper_bgcolor": "white",
          "plot_bgcolor": "#E5ECF6",
          "polar": {
           "angularaxis": {
            "gridcolor": "white",
            "linecolor": "white",
            "ticks": ""
           },
           "bgcolor": "#E5ECF6",
           "radialaxis": {
            "gridcolor": "white",
            "linecolor": "white",
            "ticks": ""
           }
          },
          "scene": {
           "xaxis": {
            "backgroundcolor": "#E5ECF6",
            "gridcolor": "white",
            "gridwidth": 2,
            "linecolor": "white",
            "showbackground": true,
            "ticks": "",
            "zerolinecolor": "white"
           },
           "yaxis": {
            "backgroundcolor": "#E5ECF6",
            "gridcolor": "white",
            "gridwidth": 2,
            "linecolor": "white",
            "showbackground": true,
            "ticks": "",
            "zerolinecolor": "white"
           },
           "zaxis": {
            "backgroundcolor": "#E5ECF6",
            "gridcolor": "white",
            "gridwidth": 2,
            "linecolor": "white",
            "showbackground": true,
            "ticks": "",
            "zerolinecolor": "white"
           }
          },
          "shapedefaults": {
           "line": {
            "color": "#2a3f5f"
           }
          },
          "ternary": {
           "aaxis": {
            "gridcolor": "white",
            "linecolor": "white",
            "ticks": ""
           },
           "baxis": {
            "gridcolor": "white",
            "linecolor": "white",
            "ticks": ""
           },
           "bgcolor": "#E5ECF6",
           "caxis": {
            "gridcolor": "white",
            "linecolor": "white",
            "ticks": ""
           }
          },
          "title": {
           "x": 0.05
          },
          "xaxis": {
           "automargin": true,
           "gridcolor": "white",
           "linecolor": "white",
           "ticks": "",
           "title": {
            "standoff": 15
           },
           "zerolinecolor": "white",
           "zerolinewidth": 2
          },
          "yaxis": {
           "automargin": true,
           "gridcolor": "white",
           "linecolor": "white",
           "ticks": "",
           "title": {
            "standoff": 15
           },
           "zerolinecolor": "white",
           "zerolinewidth": 2
          }
         }
        },
        "title": {
         "text": "Visualización 3D de Embeddings (PCA - 26.72% de varianza explicada)"
        },
        "width": 1000
       }
      }
     },
     "metadata": {},
     "output_type": "display_data"
    }
   ],
   "source": [
    "# Primero, aplicamos normalización a los embeddings para evitar problemas numéricos\n",
    "import warnings\n",
    "from sklearn.preprocessing import RobustScaler\n",
    "from sklearn.exceptions import ConvergenceWarning\n",
    "\n",
    "# Suprimir advertencias específicas de sklearn\n",
    "warnings.filterwarnings('ignore', category=RuntimeWarning)\n",
    "warnings.filterwarnings('ignore', category=ConvergenceWarning)\n",
    "\n",
    "# Verificar si hay valores problemáticos en los embeddings\n",
    "print(f\"Verificando datos: NaN: {np.isnan(embeddings_array).any()}, \"\n",
    "      f\"Inf: {np.isinf(embeddings_array).any()}\")\n",
    "print(f\"Valor mínimo: {np.min(embeddings_array)}, Valor máximo: {np.max(embeddings_array)}\")\n",
    "\n",
    "# Limpiar datos: reemplazar valores inf y nan si existen\n",
    "embeddings_clean = np.nan_to_num(embeddings_array, nan=0.0, posinf=1.0, neginf=-1.0)\n",
    "\n",
    "# Usar RobustScaler que es menos sensible a valores atípicos\n",
    "scaler = RobustScaler()\n",
    "embeddings_scaled = scaler.fit_transform(embeddings_clean)\n",
    "\n",
    "# Verificar nuevamente después de la limpieza y escalado\n",
    "print(f\"Después de limpieza: NaN: {np.isnan(embeddings_scaled).any()}, \"\n",
    "      f\"Inf: {np.isinf(embeddings_scaled).any()}\")\n",
    "print(f\"Valor mínimo: {np.min(embeddings_scaled)}, Valor máximo: {np.max(embeddings_scaled)}\")\n",
    "\n",
    "# Aplicar PCA con manejo de errores\n",
    "try:\n",
    "    # Usar svd_solver='arpack' que suele ser más estable para matrices problemáticas\n",
    "    pca = PCA(n_components=3, svd_solver='arpack', random_state=42)\n",
    "    embeddings_3d = pca.fit_transform(embeddings_scaled)\n",
    "    varianza_explicada = pca.explained_variance_ratio_ * 100\n",
    "    \n",
    "    print(f\"Varianza explicada por cada componente:\")\n",
    "    print(f\"Componente 1: {varianza_explicada[0]:.2f}%\")\n",
    "    print(f\"Componente 2: {varianza_explicada[1]:.2f}%\")\n",
    "    print(f\"Componente 3: {varianza_explicada[2]:.2f}%\")\n",
    "    print(f\"Total: {sum(varianza_explicada):.2f}%\")\n",
    "    \n",
    "    # Si todo funciona bien con PCA, continuamos con la visualización\n",
    "    viz_df = pd.DataFrame({\n",
    "        'x': embeddings_3d[:, 0],\n",
    "        'y': embeddings_3d[:, 1],\n",
    "        'z': embeddings_3d[:, 2],\n",
    "        'documento': [doc.split()[0] for doc in results['documents']],\n",
    "        'documento_completo': results['documents'],\n",
    "        'tipo': location_types\n",
    "    })\n",
    "    \n",
    "    # Crear gráfico 3D interactivo\n",
    "    fig = px.scatter_3d(\n",
    "        viz_df, \n",
    "        x='x', \n",
    "        y='y', \n",
    "        z='z',\n",
    "        color='tipo',\n",
    "        hover_data=['documento_completo'],\n",
    "        text='documento',\n",
    "        title=f'Visualización 3D de Embeddings (PCA - {sum(varianza_explicada):.2f}% de varianza explicada)',\n",
    "        labels={\n",
    "            'x': f'Componente 1 ({varianza_explicada[0]:.2f}%)', \n",
    "            'y': f'Componente 2 ({varianza_explicada[1]:.2f}%)', \n",
    "            'z': f'Componente 3 ({varianza_explicada[2]:.2f}%)'\n",
    "        }\n",
    "    )\n",
    "    \n",
    "    fig.update_traces(\n",
    "        marker=dict(size=10, opacity=0.8), \n",
    "        selector=dict(mode='markers+text'),\n",
    "        textposition='top center'\n",
    "    )\n",
    "    \n",
    "    fig.update_layout(\n",
    "        scene=dict(\n",
    "            xaxis_title=f'Componente 1 ({varianza_explicada[0]:.2f}%)',\n",
    "            yaxis_title=f'Componente 2 ({varianza_explicada[1]:.2f}%)',\n",
    "            zaxis_title=f'Componente 3 ({varianza_explicada[2]:.2f}%)'\n",
    "        ),\n",
    "        legend_title_text='Tipo de Ubicación',\n",
    "        height=800,\n",
    "        width=1000,\n",
    "        margin=dict(l=0, r=0, t=40, b=0)\n",
    "    )\n",
    "    \n",
    "    fig.show()\n",
    "    \n",
    "except Exception as e:\n",
    "    print(f\"Error al aplicar PCA: {e}\")\n",
    "    print(\"Intentando con un enfoque alternativo: UMAP\")\n",
    "    \n",
    "    # Si PCA falla, intentamos con UMAP que es más robusto\n",
    "    try:\n",
    "        # Importar UMAP (si no está instalado, ejecute: pip install umap-learn)\n",
    "        from umap import UMAP\n",
    "        \n",
    "        # UMAP es más robusto para embeddings\n",
    "        reducer = UMAP(n_components=3, random_state=42)\n",
    "        embeddings_3d = reducer.fit_transform(embeddings_clean)\n",
    "        \n",
    "        # Creamos la visualización con UMAP\n",
    "        viz_df = pd.DataFrame({\n",
    "            'x': embeddings_3d[:, 0],\n",
    "            'y': embeddings_3d[:, 1],\n",
    "            'z': embeddings_3d[:, 2],\n",
    "            'documento': [doc.split()[0] for doc in results['documents']],\n",
    "            'documento_completo': results['documents'],\n",
    "            'tipo': location_types\n",
    "        })\n",
    "        \n",
    "        fig = px.scatter_3d(\n",
    "            viz_df, \n",
    "            x='x', \n",
    "            y='y', \n",
    "            z='z',\n",
    "            color='tipo',\n",
    "            hover_data=['documento_completo'],\n",
    "            text='documento',\n",
    "            title='Visualización 3D de Embeddings con UMAP',\n",
    "            labels={'x': 'UMAP 1', 'y': 'UMAP 2', 'z': 'UMAP 3'}\n",
    "        )\n",
    "        \n",
    "        fig.update_traces(\n",
    "            marker=dict(size=10, opacity=0.8), \n",
    "            selector=dict(mode='markers+text'),\n",
    "            textposition='top center'\n",
    "        )\n",
    "        \n",
    "        fig.update_layout(\n",
    "            scene=dict(\n",
    "                xaxis_title='UMAP 1',\n",
    "                yaxis_title='UMAP 2',\n",
    "                zaxis_title='UMAP 3'\n",
    "            ),\n",
    "            legend_title_text='Tipo de Ubicación',\n",
    "            height=800,\n",
    "            width=1000\n",
    "        )\n",
    "        \n",
    "        fig.show()\n",
    "        \n",
    "    except ImportError:\n",
    "        print(\"UMAP no está instalado. Usando t-SNE en 3D como alternativa.\")\n",
    "        \n",
    "        # Si UMAP no está disponible, usar t-SNE en 3D\n",
    "        tsne = TSNE(n_components=3, perplexity=5, random_state=42)\n",
    "        embeddings_3d = tsne.fit_transform(embeddings_clean)\n",
    "        \n",
    "        viz_df = pd.DataFrame({\n",
    "            'x': embeddings_3d[:, 0],\n",
    "            'y': embeddings_3d[:, 1],\n",
    "            'z': embeddings_3d[:, 2],\n",
    "            'documento': [doc.split()[0] for doc in results['documents']],\n",
    "            'documento_completo': results['documents'],\n",
    "            'tipo': location_types\n",
    "        })\n",
    "        \n",
    "        fig = px.scatter_3d(\n",
    "            viz_df, \n",
    "            x='x', \n",
    "            y='y', \n",
    "            z='z',\n",
    "            color='tipo',\n",
    "            hover_data=['documento_completo'],\n",
    "            text='documento',\n",
    "            title='Visualización 3D de Embeddings con t-SNE',\n",
    "            labels={'x': 't-SNE 1', 'y': 't-SNE 2', 'z': 't-SNE 3'}\n",
    "        )\n",
    "        \n",
    "        fig.update_traces(\n",
    "            marker=dict(size=10, opacity=0.8), \n",
    "            selector=dict(mode='markers+text'),\n",
    "            textposition='top center'\n",
    "        )\n",
    "        \n",
    "        fig.update_layout(\n",
    "            scene=dict(\n",
    "                xaxis_title='t-SNE 1',\n",
    "                yaxis_title='t-SNE 2',\n",
    "                zaxis_title='t-SNE 3'\n",
    "            ),\n",
    "            legend_title_text='Tipo de Ubicación',\n",
    "            height=800,\n",
    "            width=1000\n",
    "        )\n",
    "        \n",
    "        fig.show()"
   ]
  },
  {
   "cell_type": "markdown",
   "id": "f885e41e",
   "metadata": {},
   "source": [
    "## Interpretación del gráfico 3D y los errores de PCA\n",
    "\n",
    "**¿Qué estamos viendo?**\n",
    "\n",
    "El gráfico anterior muestra los documentos transformados a un espacio 3D mediante PCA. Cada punto representa un documento y su ubicación está determinada por los valores de las 3 componentes principales.\n",
    "\n",
    "**¿Qué significan los porcentajes?**\n",
    "\n",
    "Los porcentajes de varianza explicada nos indican cuánta información de los embeddings originales se conserva en cada dimensión del nuevo espacio reducido. Si la suma es cercana al 100%, la visualización captura bien la estructura de los datos originales.\n",
    "\n",
    "**¿Por qué aparecen advertencias?**\n",
    "\n",
    "Las advertencias como `divide by zero` y `overflow encountered` ocurren cuando los embeddings tienen:\n",
    "- Valores extremadamente grandes o pequeños\n",
    "- Estructuras muy dispersas (muchos ceros)\n",
    "- Problemas de escala entre diferentes dimensiones\n",
    "\n",
    "La normalización que aplicamos (StandardScaler) ayuda a reducir estos problemas.\n",
    "\n",
    "Ahora veamos una visualización 2D con t-SNE que suele ser más intuitiva para visualizar clusters de documentos similares:\n",
    "\n",
    "También podemos visualizar los embeddings en 2D, lo que puede facilitar la interpretación:"
   ]
  },
  {
   "cell_type": "code",
   "execution_count": 17,
   "id": "fcde61ec",
   "metadata": {},
   "outputs": [
    {
     "data": {
      "application/vnd.plotly.v1+json": {
       "config": {
        "plotlyServerURL": "https://plot.ly"
       },
       "data": [
        {
         "customdata": [
          [
           "Belén 8.83 217501 Arepa de Choclo Parque Biblioteca Belén 450"
          ],
          [
           "La Candelaria 3.5 100000 Bandeja Paisa Plaza Botero 500"
          ],
          [
           "El Poblado 23.1 130000 Sancocho Antioqueño Parque Lleras 800"
          ],
          [
           "Robledo 13.5 150000 Empanadas Cerro El Volador 400"
          ],
          [
           "Manrique 7.5 120000 Chorizo Antioqueño Parque de los Deseos 380"
          ],
          [
           "Villa Hermosa 5.8 104450 Arepa de Queso Parque Biblioteca León de Greiff 390"
          ],
          [
           "Guayabal 7.6 76355 Lechona Parque Juan Pablo II 420"
          ],
          [
           "Castilla 6.2 110000 Frijoles con Chicharrón Parque Juanes de la Paz 370"
          ],
          [
           "Santa Cruz 5.5 95000 Chicharrón Parque Santa Cruz 360"
          ],
          [
           "Doce de Octubre 6.0 98000 Mondongo Parque Doce de Octubre 365"
          ]
         ],
         "hovertemplate": "tipo=Commune<br>t-SNE 1=%{x}<br>t-SNE 2=%{y}<br>documento=%{text}<br>documento_completo=%{customdata[0]}<extra></extra>",
         "legendgroup": "Commune",
         "marker": {
          "color": "#636efa",
          "line": {
           "color": "DarkSlateGrey",
           "width": 1
          },
          "size": 12,
          "symbol": "circle"
         },
         "mode": "markers+text",
         "name": "Commune",
         "orientation": "v",
         "showlegend": true,
         "text": [
          "Belén",
          "La",
          "El",
          "Robledo",
          "Manrique",
          "Villa",
          "Guayabal",
          "Castilla",
          "Santa",
          "Doce"
         ],
         "type": "scatter",
         "x": {
          "bdata": "Pn0xQRo4GEK+Pz9CEvAZwhejuMF5OrfAlxqRQojRBcLbBYpBzi++Qg==",
          "dtype": "f4"
         },
         "xaxis": "x",
         "y": {
          "bdata": "7YdqQkzRyEL3DxnCLX2awSPzcT5WZG5CqFsKQdO9jEEAs8bBzcB4vg==",
          "dtype": "f4"
         },
         "yaxis": "y"
        },
        {
         "customdata": [
          [
           "Medellín 380.64 2533424 Bandeja Paisa Plaza Botero 850"
          ],
          [
           "Bello 142.36 532154 Arepa de Chocolo Puerta del Norte Shopping Center 700"
          ],
          [
           "Itagüí 21.09 276744 Empanadas Itagüí Central Park 650"
          ],
          [
           "Envigado 78.78 228848 Sancocho Antioqueño Envigado Cultural Center 800"
          ],
          [
           "Caldas 135.0 81275 Lechona La Valeria Ecological Park 500"
          ],
          [
           "Sabaneta 15.0 79638 Chicharrón Parque de Sabaneta 750"
          ],
          [
           "Copacabana 70.0 74884 Frijoles con Chicharrón Cerro de la Virgen 600"
          ],
          [
           "La Estrella 35.0 70445 Mondongo El Romeral Ecological Reserve 620"
          ],
          [
           "Girardota 78.0 63611 Arepa de Queso Parque Principal de Girardota 580"
          ],
          [
           "Barbosa 206.0 55969 Chorizo Antioqueño Parque de las Aguas 550"
          ]
         ],
         "hovertemplate": "tipo=Municipality<br>t-SNE 1=%{x}<br>t-SNE 2=%{y}<br>documento=%{text}<br>documento_completo=%{customdata[0]}<extra></extra>",
         "legendgroup": "Municipality",
         "marker": {
          "color": "#EF553B",
          "line": {
           "color": "DarkSlateGrey",
           "width": 1
          },
          "size": 12,
          "symbol": "circle"
         },
         "mode": "markers+text",
         "name": "Municipality",
         "orientation": "v",
         "showlegend": true,
         "text": [
          "Medellín",
          "Bello",
          "Itagüí",
          "Envigado",
          "Caldas",
          "Sabaneta",
          "Copacabana",
          "La",
          "Girardota",
          "Barbosa"
         ],
         "type": "scatter",
         "x": {
          "bdata": "cFMlQpZOrEGvaBNCnF5YQrU+jkJH819B/AvmwDnL10IOCkJBBIwUwQ==",
          "dtype": "f4"
         },
         "xaxis": "x",
         "y": {
          "bdata": "z6isQtlIiEKWN1rAoctIwqmyxEEPMC/BbHfuwcjAzkDP/IBBxVEIQA==",
          "dtype": "f4"
         },
         "yaxis": "y"
        }
       ],
       "layout": {
        "height": 700,
        "legend": {
         "title": {
          "text": "Tipo de Ubicación"
         },
         "tracegroupgap": 0
        },
        "template": {
         "data": {
          "bar": [
           {
            "error_x": {
             "color": "#2a3f5f"
            },
            "error_y": {
             "color": "#2a3f5f"
            },
            "marker": {
             "line": {
              "color": "white",
              "width": 0.5
             },
             "pattern": {
              "fillmode": "overlay",
              "size": 10,
              "solidity": 0.2
             }
            },
            "type": "bar"
           }
          ],
          "barpolar": [
           {
            "marker": {
             "line": {
              "color": "white",
              "width": 0.5
             },
             "pattern": {
              "fillmode": "overlay",
              "size": 10,
              "solidity": 0.2
             }
            },
            "type": "barpolar"
           }
          ],
          "carpet": [
           {
            "aaxis": {
             "endlinecolor": "#2a3f5f",
             "gridcolor": "#C8D4E3",
             "linecolor": "#C8D4E3",
             "minorgridcolor": "#C8D4E3",
             "startlinecolor": "#2a3f5f"
            },
            "baxis": {
             "endlinecolor": "#2a3f5f",
             "gridcolor": "#C8D4E3",
             "linecolor": "#C8D4E3",
             "minorgridcolor": "#C8D4E3",
             "startlinecolor": "#2a3f5f"
            },
            "type": "carpet"
           }
          ],
          "choropleth": [
           {
            "colorbar": {
             "outlinewidth": 0,
             "ticks": ""
            },
            "type": "choropleth"
           }
          ],
          "contour": [
           {
            "colorbar": {
             "outlinewidth": 0,
             "ticks": ""
            },
            "colorscale": [
             [
              0,
              "#0d0887"
             ],
             [
              0.1111111111111111,
              "#46039f"
             ],
             [
              0.2222222222222222,
              "#7201a8"
             ],
             [
              0.3333333333333333,
              "#9c179e"
             ],
             [
              0.4444444444444444,
              "#bd3786"
             ],
             [
              0.5555555555555556,
              "#d8576b"
             ],
             [
              0.6666666666666666,
              "#ed7953"
             ],
             [
              0.7777777777777778,
              "#fb9f3a"
             ],
             [
              0.8888888888888888,
              "#fdca26"
             ],
             [
              1,
              "#f0f921"
             ]
            ],
            "type": "contour"
           }
          ],
          "contourcarpet": [
           {
            "colorbar": {
             "outlinewidth": 0,
             "ticks": ""
            },
            "type": "contourcarpet"
           }
          ],
          "heatmap": [
           {
            "colorbar": {
             "outlinewidth": 0,
             "ticks": ""
            },
            "colorscale": [
             [
              0,
              "#0d0887"
             ],
             [
              0.1111111111111111,
              "#46039f"
             ],
             [
              0.2222222222222222,
              "#7201a8"
             ],
             [
              0.3333333333333333,
              "#9c179e"
             ],
             [
              0.4444444444444444,
              "#bd3786"
             ],
             [
              0.5555555555555556,
              "#d8576b"
             ],
             [
              0.6666666666666666,
              "#ed7953"
             ],
             [
              0.7777777777777778,
              "#fb9f3a"
             ],
             [
              0.8888888888888888,
              "#fdca26"
             ],
             [
              1,
              "#f0f921"
             ]
            ],
            "type": "heatmap"
           }
          ],
          "histogram": [
           {
            "marker": {
             "pattern": {
              "fillmode": "overlay",
              "size": 10,
              "solidity": 0.2
             }
            },
            "type": "histogram"
           }
          ],
          "histogram2d": [
           {
            "colorbar": {
             "outlinewidth": 0,
             "ticks": ""
            },
            "colorscale": [
             [
              0,
              "#0d0887"
             ],
             [
              0.1111111111111111,
              "#46039f"
             ],
             [
              0.2222222222222222,
              "#7201a8"
             ],
             [
              0.3333333333333333,
              "#9c179e"
             ],
             [
              0.4444444444444444,
              "#bd3786"
             ],
             [
              0.5555555555555556,
              "#d8576b"
             ],
             [
              0.6666666666666666,
              "#ed7953"
             ],
             [
              0.7777777777777778,
              "#fb9f3a"
             ],
             [
              0.8888888888888888,
              "#fdca26"
             ],
             [
              1,
              "#f0f921"
             ]
            ],
            "type": "histogram2d"
           }
          ],
          "histogram2dcontour": [
           {
            "colorbar": {
             "outlinewidth": 0,
             "ticks": ""
            },
            "colorscale": [
             [
              0,
              "#0d0887"
             ],
             [
              0.1111111111111111,
              "#46039f"
             ],
             [
              0.2222222222222222,
              "#7201a8"
             ],
             [
              0.3333333333333333,
              "#9c179e"
             ],
             [
              0.4444444444444444,
              "#bd3786"
             ],
             [
              0.5555555555555556,
              "#d8576b"
             ],
             [
              0.6666666666666666,
              "#ed7953"
             ],
             [
              0.7777777777777778,
              "#fb9f3a"
             ],
             [
              0.8888888888888888,
              "#fdca26"
             ],
             [
              1,
              "#f0f921"
             ]
            ],
            "type": "histogram2dcontour"
           }
          ],
          "mesh3d": [
           {
            "colorbar": {
             "outlinewidth": 0,
             "ticks": ""
            },
            "type": "mesh3d"
           }
          ],
          "parcoords": [
           {
            "line": {
             "colorbar": {
              "outlinewidth": 0,
              "ticks": ""
             }
            },
            "type": "parcoords"
           }
          ],
          "pie": [
           {
            "automargin": true,
            "type": "pie"
           }
          ],
          "scatter": [
           {
            "fillpattern": {
             "fillmode": "overlay",
             "size": 10,
             "solidity": 0.2
            },
            "type": "scatter"
           }
          ],
          "scatter3d": [
           {
            "line": {
             "colorbar": {
              "outlinewidth": 0,
              "ticks": ""
             }
            },
            "marker": {
             "colorbar": {
              "outlinewidth": 0,
              "ticks": ""
             }
            },
            "type": "scatter3d"
           }
          ],
          "scattercarpet": [
           {
            "marker": {
             "colorbar": {
              "outlinewidth": 0,
              "ticks": ""
             }
            },
            "type": "scattercarpet"
           }
          ],
          "scattergeo": [
           {
            "marker": {
             "colorbar": {
              "outlinewidth": 0,
              "ticks": ""
             }
            },
            "type": "scattergeo"
           }
          ],
          "scattergl": [
           {
            "marker": {
             "colorbar": {
              "outlinewidth": 0,
              "ticks": ""
             }
            },
            "type": "scattergl"
           }
          ],
          "scattermap": [
           {
            "marker": {
             "colorbar": {
              "outlinewidth": 0,
              "ticks": ""
             }
            },
            "type": "scattermap"
           }
          ],
          "scattermapbox": [
           {
            "marker": {
             "colorbar": {
              "outlinewidth": 0,
              "ticks": ""
             }
            },
            "type": "scattermapbox"
           }
          ],
          "scatterpolar": [
           {
            "marker": {
             "colorbar": {
              "outlinewidth": 0,
              "ticks": ""
             }
            },
            "type": "scatterpolar"
           }
          ],
          "scatterpolargl": [
           {
            "marker": {
             "colorbar": {
              "outlinewidth": 0,
              "ticks": ""
             }
            },
            "type": "scatterpolargl"
           }
          ],
          "scatterternary": [
           {
            "marker": {
             "colorbar": {
              "outlinewidth": 0,
              "ticks": ""
             }
            },
            "type": "scatterternary"
           }
          ],
          "surface": [
           {
            "colorbar": {
             "outlinewidth": 0,
             "ticks": ""
            },
            "colorscale": [
             [
              0,
              "#0d0887"
             ],
             [
              0.1111111111111111,
              "#46039f"
             ],
             [
              0.2222222222222222,
              "#7201a8"
             ],
             [
              0.3333333333333333,
              "#9c179e"
             ],
             [
              0.4444444444444444,
              "#bd3786"
             ],
             [
              0.5555555555555556,
              "#d8576b"
             ],
             [
              0.6666666666666666,
              "#ed7953"
             ],
             [
              0.7777777777777778,
              "#fb9f3a"
             ],
             [
              0.8888888888888888,
              "#fdca26"
             ],
             [
              1,
              "#f0f921"
             ]
            ],
            "type": "surface"
           }
          ],
          "table": [
           {
            "cells": {
             "fill": {
              "color": "#EBF0F8"
             },
             "line": {
              "color": "white"
             }
            },
            "header": {
             "fill": {
              "color": "#C8D4E3"
             },
             "line": {
              "color": "white"
             }
            },
            "type": "table"
           }
          ]
         },
         "layout": {
          "annotationdefaults": {
           "arrowcolor": "#2a3f5f",
           "arrowhead": 0,
           "arrowwidth": 1
          },
          "autotypenumbers": "strict",
          "coloraxis": {
           "colorbar": {
            "outlinewidth": 0,
            "ticks": ""
           }
          },
          "colorscale": {
           "diverging": [
            [
             0,
             "#8e0152"
            ],
            [
             0.1,
             "#c51b7d"
            ],
            [
             0.2,
             "#de77ae"
            ],
            [
             0.3,
             "#f1b6da"
            ],
            [
             0.4,
             "#fde0ef"
            ],
            [
             0.5,
             "#f7f7f7"
            ],
            [
             0.6,
             "#e6f5d0"
            ],
            [
             0.7,
             "#b8e186"
            ],
            [
             0.8,
             "#7fbc41"
            ],
            [
             0.9,
             "#4d9221"
            ],
            [
             1,
             "#276419"
            ]
           ],
           "sequential": [
            [
             0,
             "#0d0887"
            ],
            [
             0.1111111111111111,
             "#46039f"
            ],
            [
             0.2222222222222222,
             "#7201a8"
            ],
            [
             0.3333333333333333,
             "#9c179e"
            ],
            [
             0.4444444444444444,
             "#bd3786"
            ],
            [
             0.5555555555555556,
             "#d8576b"
            ],
            [
             0.6666666666666666,
             "#ed7953"
            ],
            [
             0.7777777777777778,
             "#fb9f3a"
            ],
            [
             0.8888888888888888,
             "#fdca26"
            ],
            [
             1,
             "#f0f921"
            ]
           ],
           "sequentialminus": [
            [
             0,
             "#0d0887"
            ],
            [
             0.1111111111111111,
             "#46039f"
            ],
            [
             0.2222222222222222,
             "#7201a8"
            ],
            [
             0.3333333333333333,
             "#9c179e"
            ],
            [
             0.4444444444444444,
             "#bd3786"
            ],
            [
             0.5555555555555556,
             "#d8576b"
            ],
            [
             0.6666666666666666,
             "#ed7953"
            ],
            [
             0.7777777777777778,
             "#fb9f3a"
            ],
            [
             0.8888888888888888,
             "#fdca26"
            ],
            [
             1,
             "#f0f921"
            ]
           ]
          },
          "colorway": [
           "#636efa",
           "#EF553B",
           "#00cc96",
           "#ab63fa",
           "#FFA15A",
           "#19d3f3",
           "#FF6692",
           "#B6E880",
           "#FF97FF",
           "#FECB52"
          ],
          "font": {
           "color": "#2a3f5f"
          },
          "geo": {
           "bgcolor": "white",
           "lakecolor": "white",
           "landcolor": "white",
           "showlakes": true,
           "showland": true,
           "subunitcolor": "#C8D4E3"
          },
          "hoverlabel": {
           "align": "left"
          },
          "hovermode": "closest",
          "mapbox": {
           "style": "light"
          },
          "paper_bgcolor": "white",
          "plot_bgcolor": "white",
          "polar": {
           "angularaxis": {
            "gridcolor": "#EBF0F8",
            "linecolor": "#EBF0F8",
            "ticks": ""
           },
           "bgcolor": "white",
           "radialaxis": {
            "gridcolor": "#EBF0F8",
            "linecolor": "#EBF0F8",
            "ticks": ""
           }
          },
          "scene": {
           "xaxis": {
            "backgroundcolor": "white",
            "gridcolor": "#DFE8F3",
            "gridwidth": 2,
            "linecolor": "#EBF0F8",
            "showbackground": true,
            "ticks": "",
            "zerolinecolor": "#EBF0F8"
           },
           "yaxis": {
            "backgroundcolor": "white",
            "gridcolor": "#DFE8F3",
            "gridwidth": 2,
            "linecolor": "#EBF0F8",
            "showbackground": true,
            "ticks": "",
            "zerolinecolor": "#EBF0F8"
           },
           "zaxis": {
            "backgroundcolor": "white",
            "gridcolor": "#DFE8F3",
            "gridwidth": 2,
            "linecolor": "#EBF0F8",
            "showbackground": true,
            "ticks": "",
            "zerolinecolor": "#EBF0F8"
           }
          },
          "shapedefaults": {
           "line": {
            "color": "#2a3f5f"
           }
          },
          "ternary": {
           "aaxis": {
            "gridcolor": "#DFE8F3",
            "linecolor": "#A2B1C6",
            "ticks": ""
           },
           "baxis": {
            "gridcolor": "#DFE8F3",
            "linecolor": "#A2B1C6",
            "ticks": ""
           },
           "bgcolor": "white",
           "caxis": {
            "gridcolor": "#DFE8F3",
            "linecolor": "#A2B1C6",
            "ticks": ""
           }
          },
          "title": {
           "x": 0.05
          },
          "xaxis": {
           "automargin": true,
           "gridcolor": "#EBF0F8",
           "linecolor": "#EBF0F8",
           "ticks": "",
           "title": {
            "standoff": 15
           },
           "zerolinecolor": "#EBF0F8",
           "zerolinewidth": 2
          },
          "yaxis": {
           "automargin": true,
           "gridcolor": "#EBF0F8",
           "linecolor": "#EBF0F8",
           "ticks": "",
           "title": {
            "standoff": 15
           },
           "zerolinecolor": "#EBF0F8",
           "zerolinewidth": 2
          }
         }
        },
        "title": {
         "text": "Visualización de Embeddings con t-SNE"
        },
        "width": 1000,
        "xaxis": {
         "anchor": "y",
         "domain": [
          0,
          1
         ],
         "title": {
          "text": "t-SNE Dimensión 1"
         }
        },
        "yaxis": {
         "anchor": "x",
         "domain": [
          0,
          1
         ],
         "title": {
          "text": "t-SNE Dimensión 2"
         }
        }
       }
      }
     },
     "metadata": {},
     "output_type": "display_data"
    }
   ],
   "source": [
    "# Reducir a 2D con t-SNE para mejor visualización de clusters\n",
    "tsne = TSNE(n_components=2, perplexity=5, random_state=42)\n",
    "embeddings_2d = tsne.fit_transform(embeddings_array)\n",
    "\n",
    "# Crear dataframe para visualización\n",
    "viz_df_2d = pd.DataFrame({\n",
    "    'x': embeddings_2d[:, 0],\n",
    "    'y': embeddings_2d[:, 1],\n",
    "    'documento': [doc.split()[0] for doc in results['documents']],  # Solo el nombre para etiquetas\n",
    "    'documento_completo': results['documents'],\n",
    "    'tipo': location_types\n",
    "})\n",
    "\n",
    "# Crear gráfico interactivo con hover\n",
    "fig = px.scatter(\n",
    "    viz_df_2d, \n",
    "    x='x', \n",
    "    y='y',\n",
    "    color='tipo',\n",
    "    hover_data=['documento_completo'],\n",
    "    text='documento',\n",
    "    title='Visualización de Embeddings con t-SNE',\n",
    "    labels={'x': 't-SNE 1', 'y': 't-SNE 2'},\n",
    "    template='plotly_white'\n",
    ")\n",
    "\n",
    "fig.update_traces(\n",
    "    marker=dict(size=12, line=dict(width=1, color='DarkSlateGrey')),\n",
    "    selector=dict(mode='markers+text')\n",
    ")\n",
    "\n",
    "fig.update_layout(\n",
    "    height=700,\n",
    "    width=1000,\n",
    "    xaxis_title='t-SNE Dimensión 1',\n",
    "    yaxis_title='t-SNE Dimensión 2',\n",
    "    legend_title_text='Tipo de Ubicación'\n",
    ")\n",
    "\n",
    "fig.show()"
   ]
  },
  {
   "cell_type": "markdown",
   "id": "e531a1fc",
   "metadata": {},
   "source": [
    "## Similitud entre Documentos\n",
    "\n",
    "Visualicemos la similitud del coseno entre los documentos para entender mejor cómo funciona la recuperación:"
   ]
  },
  {
   "cell_type": "code",
   "execution_count": null,
   "id": "7b9e7ad1",
   "metadata": {},
   "outputs": [
    {
     "data": {
      "application/vnd.plotly.v1+json": {
       "config": {
        "plotlyServerURL": "https://plot.ly"
       },
       "data": [
        {
         "coloraxis": "coloraxis",
         "hovertemplate": "x: %{x}<br>y: %{y}<br>color: %{z}<extra></extra>",
         "name": "0",
         "texttemplate": "%{z:.2f}",
         "type": "heatmap",
         "x": [
          "Doc_1",
          "Doc_2",
          "Doc_3",
          "Doc_4",
          "Doc_5",
          "Doc_6",
          "Doc_7",
          "Doc_8",
          "Doc_9",
          "Doc_10",
          "Doc_11",
          "Doc_12",
          "Doc_13",
          "Doc_14",
          "Doc_15",
          "Doc_16",
          "Doc_17",
          "Doc_18",
          "Doc_19",
          "Doc_20"
         ],
         "xaxis": "x",
         "y": [
          "Doc_1",
          "Doc_2",
          "Doc_3",
          "Doc_4",
          "Doc_5",
          "Doc_6",
          "Doc_7",
          "Doc_8",
          "Doc_9",
          "Doc_10",
          "Doc_11",
          "Doc_12",
          "Doc_13",
          "Doc_14",
          "Doc_15",
          "Doc_16",
          "Doc_17",
          "Doc_18",
          "Doc_19",
          "Doc_20"
         ],
         "yaxis": "y",
         "z": {
          "bdata": "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",
          "dtype": "f8",
          "shape": "20, 20"
         }
        }
       ],
       "layout": {
        "coloraxis": {
         "colorscale": [
          [
           0,
           "rgb(5,48,97)"
          ],
          [
           0.1,
           "rgb(33,102,172)"
          ],
          [
           0.2,
           "rgb(67,147,195)"
          ],
          [
           0.3,
           "rgb(146,197,222)"
          ],
          [
           0.4,
           "rgb(209,229,240)"
          ],
          [
           0.5,
           "rgb(247,247,247)"
          ],
          [
           0.6,
           "rgb(253,219,199)"
          ],
          [
           0.7,
           "rgb(244,165,130)"
          ],
          [
           0.8,
           "rgb(214,96,77)"
          ],
          [
           0.9,
           "rgb(178,24,43)"
          ],
          [
           1,
           "rgb(103,0,31)"
          ]
         ]
        },
        "height": 800,
        "template": {
         "data": {
          "bar": [
           {
            "error_x": {
             "color": "#2a3f5f"
            },
            "error_y": {
             "color": "#2a3f5f"
            },
            "marker": {
             "line": {
              "color": "#E5ECF6",
              "width": 0.5
             },
             "pattern": {
              "fillmode": "overlay",
              "size": 10,
              "solidity": 0.2
             }
            },
            "type": "bar"
           }
          ],
          "barpolar": [
           {
            "marker": {
             "line": {
              "color": "#E5ECF6",
              "width": 0.5
             },
             "pattern": {
              "fillmode": "overlay",
              "size": 10,
              "solidity": 0.2
             }
            },
            "type": "barpolar"
           }
          ],
          "carpet": [
           {
            "aaxis": {
             "endlinecolor": "#2a3f5f",
             "gridcolor": "white",
             "linecolor": "white",
             "minorgridcolor": "white",
             "startlinecolor": "#2a3f5f"
            },
            "baxis": {
             "endlinecolor": "#2a3f5f",
             "gridcolor": "white",
             "linecolor": "white",
             "minorgridcolor": "white",
             "startlinecolor": "#2a3f5f"
            },
            "type": "carpet"
           }
          ],
          "choropleth": [
           {
            "colorbar": {
             "outlinewidth": 0,
             "ticks": ""
            },
            "type": "choropleth"
           }
          ],
          "contour": [
           {
            "colorbar": {
             "outlinewidth": 0,
             "ticks": ""
            },
            "colorscale": [
             [
              0,
              "#0d0887"
             ],
             [
              0.1111111111111111,
              "#46039f"
             ],
             [
              0.2222222222222222,
              "#7201a8"
             ],
             [
              0.3333333333333333,
              "#9c179e"
             ],
             [
              0.4444444444444444,
              "#bd3786"
             ],
             [
              0.5555555555555556,
              "#d8576b"
             ],
             [
              0.6666666666666666,
              "#ed7953"
             ],
             [
              0.7777777777777778,
              "#fb9f3a"
             ],
             [
              0.8888888888888888,
              "#fdca26"
             ],
             [
              1,
              "#f0f921"
             ]
            ],
            "type": "contour"
           }
          ],
          "contourcarpet": [
           {
            "colorbar": {
             "outlinewidth": 0,
             "ticks": ""
            },
            "type": "contourcarpet"
           }
          ],
          "heatmap": [
           {
            "colorbar": {
             "outlinewidth": 0,
             "ticks": ""
            },
            "colorscale": [
             [
              0,
              "#0d0887"
             ],
             [
              0.1111111111111111,
              "#46039f"
             ],
             [
              0.2222222222222222,
              "#7201a8"
             ],
             [
              0.3333333333333333,
              "#9c179e"
             ],
             [
              0.4444444444444444,
              "#bd3786"
             ],
             [
              0.5555555555555556,
              "#d8576b"
             ],
             [
              0.6666666666666666,
              "#ed7953"
             ],
             [
              0.7777777777777778,
              "#fb9f3a"
             ],
             [
              0.8888888888888888,
              "#fdca26"
             ],
             [
              1,
              "#f0f921"
             ]
            ],
            "type": "heatmap"
           }
          ],
          "histogram": [
           {
            "marker": {
             "pattern": {
              "fillmode": "overlay",
              "size": 10,
              "solidity": 0.2
             }
            },
            "type": "histogram"
           }
          ],
          "histogram2d": [
           {
            "colorbar": {
             "outlinewidth": 0,
             "ticks": ""
            },
            "colorscale": [
             [
              0,
              "#0d0887"
             ],
             [
              0.1111111111111111,
              "#46039f"
             ],
             [
              0.2222222222222222,
              "#7201a8"
             ],
             [
              0.3333333333333333,
              "#9c179e"
             ],
             [
              0.4444444444444444,
              "#bd3786"
             ],
             [
              0.5555555555555556,
              "#d8576b"
             ],
             [
              0.6666666666666666,
              "#ed7953"
             ],
             [
              0.7777777777777778,
              "#fb9f3a"
             ],
             [
              0.8888888888888888,
              "#fdca26"
             ],
             [
              1,
              "#f0f921"
             ]
            ],
            "type": "histogram2d"
           }
          ],
          "histogram2dcontour": [
           {
            "colorbar": {
             "outlinewidth": 0,
             "ticks": ""
            },
            "colorscale": [
             [
              0,
              "#0d0887"
             ],
             [
              0.1111111111111111,
              "#46039f"
             ],
             [
              0.2222222222222222,
              "#7201a8"
             ],
             [
              0.3333333333333333,
              "#9c179e"
             ],
             [
              0.4444444444444444,
              "#bd3786"
             ],
             [
              0.5555555555555556,
              "#d8576b"
             ],
             [
              0.6666666666666666,
              "#ed7953"
             ],
             [
              0.7777777777777778,
              "#fb9f3a"
             ],
             [
              0.8888888888888888,
              "#fdca26"
             ],
             [
              1,
              "#f0f921"
             ]
            ],
            "type": "histogram2dcontour"
           }
          ],
          "mesh3d": [
           {
            "colorbar": {
             "outlinewidth": 0,
             "ticks": ""
            },
            "type": "mesh3d"
           }
          ],
          "parcoords": [
           {
            "line": {
             "colorbar": {
              "outlinewidth": 0,
              "ticks": ""
             }
            },
            "type": "parcoords"
           }
          ],
          "pie": [
           {
            "automargin": true,
            "type": "pie"
           }
          ],
          "scatter": [
           {
            "fillpattern": {
             "fillmode": "overlay",
             "size": 10,
             "solidity": 0.2
            },
            "type": "scatter"
           }
          ],
          "scatter3d": [
           {
            "line": {
             "colorbar": {
              "outlinewidth": 0,
              "ticks": ""
             }
            },
            "marker": {
             "colorbar": {
              "outlinewidth": 0,
              "ticks": ""
             }
            },
            "type": "scatter3d"
           }
          ],
          "scattercarpet": [
           {
            "marker": {
             "colorbar": {
              "outlinewidth": 0,
              "ticks": ""
             }
            },
            "type": "scattercarpet"
           }
          ],
          "scattergeo": [
           {
            "marker": {
             "colorbar": {
              "outlinewidth": 0,
              "ticks": ""
             }
            },
            "type": "scattergeo"
           }
          ],
          "scattergl": [
           {
            "marker": {
             "colorbar": {
              "outlinewidth": 0,
              "ticks": ""
             }
            },
            "type": "scattergl"
           }
          ],
          "scattermap": [
           {
            "marker": {
             "colorbar": {
              "outlinewidth": 0,
              "ticks": ""
             }
            },
            "type": "scattermap"
           }
          ],
          "scattermapbox": [
           {
            "marker": {
             "colorbar": {
              "outlinewidth": 0,
              "ticks": ""
             }
            },
            "type": "scattermapbox"
           }
          ],
          "scatterpolar": [
           {
            "marker": {
             "colorbar": {
              "outlinewidth": 0,
              "ticks": ""
             }
            },
            "type": "scatterpolar"
           }
          ],
          "scatterpolargl": [
           {
            "marker": {
             "colorbar": {
              "outlinewidth": 0,
              "ticks": ""
             }
            },
            "type": "scatterpolargl"
           }
          ],
          "scatterternary": [
           {
            "marker": {
             "colorbar": {
              "outlinewidth": 0,
              "ticks": ""
             }
            },
            "type": "scatterternary"
           }
          ],
          "surface": [
           {
            "colorbar": {
             "outlinewidth": 0,
             "ticks": ""
            },
            "colorscale": [
             [
              0,
              "#0d0887"
             ],
             [
              0.1111111111111111,
              "#46039f"
             ],
             [
              0.2222222222222222,
              "#7201a8"
             ],
             [
              0.3333333333333333,
              "#9c179e"
             ],
             [
              0.4444444444444444,
              "#bd3786"
             ],
             [
              0.5555555555555556,
              "#d8576b"
             ],
             [
              0.6666666666666666,
              "#ed7953"
             ],
             [
              0.7777777777777778,
              "#fb9f3a"
             ],
             [
              0.8888888888888888,
              "#fdca26"
             ],
             [
              1,
              "#f0f921"
             ]
            ],
            "type": "surface"
           }
          ],
          "table": [
           {
            "cells": {
             "fill": {
              "color": "#EBF0F8"
             },
             "line": {
              "color": "white"
             }
            },
            "header": {
             "fill": {
              "color": "#C8D4E3"
             },
             "line": {
              "color": "white"
             }
            },
            "type": "table"
           }
          ]
         },
         "layout": {
          "annotationdefaults": {
           "arrowcolor": "#2a3f5f",
           "arrowhead": 0,
           "arrowwidth": 1
          },
          "autotypenumbers": "strict",
          "coloraxis": {
           "colorbar": {
            "outlinewidth": 0,
            "ticks": ""
           }
          },
          "colorscale": {
           "diverging": [
            [
             0,
             "#8e0152"
            ],
            [
             0.1,
             "#c51b7d"
            ],
            [
             0.2,
             "#de77ae"
            ],
            [
             0.3,
             "#f1b6da"
            ],
            [
             0.4,
             "#fde0ef"
            ],
            [
             0.5,
             "#f7f7f7"
            ],
            [
             0.6,
             "#e6f5d0"
            ],
            [
             0.7,
             "#b8e186"
            ],
            [
             0.8,
             "#7fbc41"
            ],
            [
             0.9,
             "#4d9221"
            ],
            [
             1,
             "#276419"
            ]
           ],
           "sequential": [
            [
             0,
             "#0d0887"
            ],
            [
             0.1111111111111111,
             "#46039f"
            ],
            [
             0.2222222222222222,
             "#7201a8"
            ],
            [
             0.3333333333333333,
             "#9c179e"
            ],
            [
             0.4444444444444444,
             "#bd3786"
            ],
            [
             0.5555555555555556,
             "#d8576b"
            ],
            [
             0.6666666666666666,
             "#ed7953"
            ],
            [
             0.7777777777777778,
             "#fb9f3a"
            ],
            [
             0.8888888888888888,
             "#fdca26"
            ],
            [
             1,
             "#f0f921"
            ]
           ],
           "sequentialminus": [
            [
             0,
             "#0d0887"
            ],
            [
             0.1111111111111111,
             "#46039f"
            ],
            [
             0.2222222222222222,
             "#7201a8"
            ],
            [
             0.3333333333333333,
             "#9c179e"
            ],
            [
             0.4444444444444444,
             "#bd3786"
            ],
            [
             0.5555555555555556,
             "#d8576b"
            ],
            [
             0.6666666666666666,
             "#ed7953"
            ],
            [
             0.7777777777777778,
             "#fb9f3a"
            ],
            [
             0.8888888888888888,
             "#fdca26"
            ],
            [
             1,
             "#f0f921"
            ]
           ]
          },
          "colorway": [
           "#636efa",
           "#EF553B",
           "#00cc96",
           "#ab63fa",
           "#FFA15A",
           "#19d3f3",
           "#FF6692",
           "#B6E880",
           "#FF97FF",
           "#FECB52"
          ],
          "font": {
           "color": "#2a3f5f"
          },
          "geo": {
           "bgcolor": "white",
           "lakecolor": "white",
           "landcolor": "#E5ECF6",
           "showlakes": true,
           "showland": true,
           "subunitcolor": "white"
          },
          "hoverlabel": {
           "align": "left"
          },
          "hovermode": "closest",
          "mapbox": {
           "style": "light"
          },
          "paper_bgcolor": "white",
          "plot_bgcolor": "#E5ECF6",
          "polar": {
           "angularaxis": {
            "gridcolor": "white",
            "linecolor": "white",
            "ticks": ""
           },
           "bgcolor": "#E5ECF6",
           "radialaxis": {
            "gridcolor": "white",
            "linecolor": "white",
            "ticks": ""
           }
          },
          "scene": {
           "xaxis": {
            "backgroundcolor": "#E5ECF6",
            "gridcolor": "white",
            "gridwidth": 2,
            "linecolor": "white",
            "showbackground": true,
            "ticks": "",
            "zerolinecolor": "white"
           },
           "yaxis": {
            "backgroundcolor": "#E5ECF6",
            "gridcolor": "white",
            "gridwidth": 2,
            "linecolor": "white",
            "showbackground": true,
            "ticks": "",
            "zerolinecolor": "white"
           },
           "zaxis": {
            "backgroundcolor": "#E5ECF6",
            "gridcolor": "white",
            "gridwidth": 2,
            "linecolor": "white",
            "showbackground": true,
            "ticks": "",
            "zerolinecolor": "white"
           }
          },
          "shapedefaults": {
           "line": {
            "color": "#2a3f5f"
           }
          },
          "ternary": {
           "aaxis": {
            "gridcolor": "white",
            "linecolor": "white",
            "ticks": ""
           },
           "baxis": {
            "gridcolor": "white",
            "linecolor": "white",
            "ticks": ""
           },
           "bgcolor": "#E5ECF6",
           "caxis": {
            "gridcolor": "white",
            "linecolor": "white",
            "ticks": ""
           }
          },
          "title": {
           "x": 0.05
          },
          "xaxis": {
           "automargin": true,
           "gridcolor": "white",
           "linecolor": "white",
           "ticks": "",
           "title": {
            "standoff": 15
           },
           "zerolinecolor": "white",
           "zerolinewidth": 2
          },
          "yaxis": {
           "automargin": true,
           "gridcolor": "white",
           "linecolor": "white",
           "ticks": "",
           "title": {
            "standoff": 15
           },
           "zerolinecolor": "white",
           "zerolinewidth": 2
          }
         }
        },
        "title": {
         "text": "Matriz de Similitud del Coseno entre Documentos"
        },
        "width": 900,
        "xaxis": {
         "anchor": "y",
         "domain": [
          0,
          1
         ],
         "title": {
          "text": "Documento"
         }
        },
        "yaxis": {
         "anchor": "x",
         "autorange": "reversed",
         "domain": [
          0,
          1
         ],
         "title": {
          "text": "Documento"
         }
        }
       }
      }
     },
     "metadata": {},
     "output_type": "display_data"
    }
   ],
   "source": [
    "# Función para calcular similitud del coseno entre dos vectores\n",
    "def cosine_similarity(v1, v2):\n",
    "    dot_product = np.dot(v1, v2)\n",
    "    norm_v1 = np.linalg.norm(v1)\n",
    "    norm_v2 = np.linalg.norm(v2)\n",
    "    return dot_product / (norm_v1 * norm_v2)\n",
    "\n",
    "# Calcular matriz de similitud entre todos los documentos\n",
    "n_docs = len(embeddings_array)\n",
    "similarity_matrix = np.zeros((n_docs, n_docs))\n",
    "\n",
    "for i in range(n_docs):\n",
    "    for j in range(n_docs):\n",
    "        similarity_matrix[i, j] = cosine_similarity(embeddings_array[i], embeddings_array[j])\n",
    "\n",
    "# Crear dataframe con nombres de documentos únicos\n",
    "# Añadimos un índice para asegurar que cada nombre sea único\n",
    "doc_names = [f\"Doc_{i+1}\" for i in range(n_docs)]  # Nombres genéricos completamente únicos\n",
    "doc_labels = [doc.split()[0] for doc in results['documents']]  # Primeras palabras para referencia\n",
    "\n",
    "# Crear el dataframe de similitud con los nombres únicos\n",
    "similarity_df = pd.DataFrame(similarity_matrix, index=doc_names, columns=doc_names)\n",
    "\n",
    "# Crear un diccionario que mapee los nombres generados a las etiquetas originales\n",
    "name_to_label = {doc_name: f\"{doc_label} ({doc_name})\" for doc_name, doc_label in zip(doc_names, doc_labels)}\n",
    "\n",
    "# Visualizar mapa de calor de similitud\n",
    "fig = px.imshow(\n",
    "    similarity_df,\n",
    "    text_auto='.2f',\n",
    "    aspect=\"auto\",\n",
    "    color_continuous_scale='RdBu_r',\n",
    "    title='Matriz de Similitud del Coseno entre Documentos',\n",
    "    labels={\"x\": \"Documento\", \"y\": \"Documento\", \"color\": \"Similitud\"}\n",
    ")\n",
    "\n",
    "# Actualizar las etiquetas de los ejes con los nombres originales\n",
    "fig.update_layout(\n",
    "    height=800,\n",
    "    width=900,\n",
    "    xaxis_title=\"Documento\",\n",
    "    yaxis_title=\"Documento\",\n",
    ")\n",
    "\n",
    "# Para mejorar la legibilidad, añadir anotaciones para los documentos más importantes\n",
    "# o eliminar comentar si hay demasiados documentos\n",
    "\"\"\"\n",
    "annotations = []\n",
    "for i, doc_name in enumerate(doc_names):\n",
    "    annotations.append(\n",
    "        dict(\n",
    "            x=i,\n",
    "            y=-0.3,\n",
    "            text=doc_labels[i],\n",
    "            showarrow=False,\n",
    "            xref=\"x\",\n",
    "            yref=\"paper\",\n",
    "            textangle=-45\n",
    "        )\n",
    "    )\n",
    "fig.update_layout(annotations=annotations)\n",
    "\"\"\"\n",
    "\n",
    "fig.show()\n",
    "\n",
    "# También podemos crear una visualización más interactiva usando Plotly Graph Objects\n",
    "# Esta versión mostrará el contenido completo del documento al hacer hover\n",
    "hover_text = [[f\"Doc1: {results['documents'][i]}<br>Doc2: {results['documents'][j]}<br>Similitud: {similarity_matrix[i, j]:.2f}\" \n",
    "              for j in range(n_docs)] for i in range(n_docs)]\n",
    "\n",
    "fig2 = go.Figure(data=go.Heatmap(\n",
    "    z=similarity_matrix,\n",
    "    x=doc_names,\n",
    "    y=doc_names,\n",
    "    hoverongaps=False,\n",
    "    hoverinfo=\"text\",\n",
    "    text=hover_text,\n",
    "    colorscale='RdBu_r',\n",
    "))\n",
    "\n",
    "fig2.update_layout(\n",
    "    title=\"Matriz de Similitud Interactiva (hover para ver detalles)\",\n",
    "    height=800,\n",
    "    width=900,\n",
    "    xaxis_title=\"Documento\",\n",
    "    yaxis_title=\"Documento\",\n",
    ")\n",
    "\n",
    "fig2.show()\n",
    "\n",
    "# También podemos crear una tabla que mapee los IDs de documentos a sus nombres\n",
    "doc_mapping_df = pd.DataFrame({\n",
    "    'ID': doc_names,\n",
    "    'Nombre': [doc.split()[0] for doc in results['documents']],\n",
    "    'Documento': results['documents'],\n",
    "    'Tipo': location_types\n",
    "})\n",
    "display(doc_mapping_df)"
   ]
  },
  {
   "cell_type": "markdown",
   "id": "2298a0e1",
   "metadata": {},
   "source": [
    "## Demostración de Consulta\n",
    "\n",
    "Finalmente, veamos cómo funciona una consulta real y qué documentos recupera:"
   ]
  },
  {
   "cell_type": "code",
   "execution_count": 15,
   "id": "067a4f1d",
   "metadata": {},
   "outputs": [
    {
     "name": "stdout",
     "output_type": "stream",
     "text": [
      "Consulta: '¿Cuál es la comida favorita en Robledo?'\n"
     ]
    },
    {
     "data": {
      "application/vnd.plotly.v1+json": {
       "config": {
        "plotlyServerURL": "https://plot.ly"
       },
       "data": [
        {
         "hovertemplate": "tipo=Commune<br>Similitud del coseno=%{x}<br>Documento=%{y}<extra></extra>",
         "legendgroup": "Commune",
         "marker": {
          "color": "#636efa",
          "pattern": {
           "shape": ""
          }
         },
         "name": "Commune",
         "orientation": "h",
         "showlegend": true,
         "textposition": "auto",
         "type": "bar",
         "x": {
          "bdata": "qCMdfEYo5j+7yMdg/KjjP6GxIvULYOM/3zY72UFE4z8=",
          "dtype": "f8"
         },
         "xaxis": "x",
         "y": [
          "Robledo 13.5 150000 Empanadas Cerro El Volador 400",
          "Castilla 6.2 110000 Frijoles con Chicharrón Parque Juanes de la Paz 370",
          "Manrique 7.5 120000 Chorizo Antioqueño Parque de los Deseos 380",
          "El Poblado 23.1 130000 Sancocho Antioqueño Parque Lleras 800"
         ],
         "yaxis": "y"
        },
        {
         "hovertemplate": "tipo=Municipality<br>Similitud del coseno=%{x}<br>Documento=%{y}<extra></extra>",
         "legendgroup": "Municipality",
         "marker": {
          "color": "#EF553B",
          "pattern": {
           "shape": ""
          }
         },
         "name": "Municipality",
         "orientation": "h",
         "showlegend": true,
         "textposition": "auto",
         "type": "bar",
         "x": {
          "bdata": "YyBtyUPc4z8=",
          "dtype": "f8"
         },
         "xaxis": "x",
         "y": [
          "Bello 142.36 532154 Arepa de Chocolo Puerta del Norte Shopping Center 700"
         ],
         "yaxis": "y"
        }
       ],
       "layout": {
        "barmode": "relative",
        "legend": {
         "title": {
          "text": "tipo"
         },
         "tracegroupgap": 0
        },
        "template": {
         "data": {
          "bar": [
           {
            "error_x": {
             "color": "#2a3f5f"
            },
            "error_y": {
             "color": "#2a3f5f"
            },
            "marker": {
             "line": {
              "color": "white",
              "width": 0.5
             },
             "pattern": {
              "fillmode": "overlay",
              "size": 10,
              "solidity": 0.2
             }
            },
            "type": "bar"
           }
          ],
          "barpolar": [
           {
            "marker": {
             "line": {
              "color": "white",
              "width": 0.5
             },
             "pattern": {
              "fillmode": "overlay",
              "size": 10,
              "solidity": 0.2
             }
            },
            "type": "barpolar"
           }
          ],
          "carpet": [
           {
            "aaxis": {
             "endlinecolor": "#2a3f5f",
             "gridcolor": "#C8D4E3",
             "linecolor": "#C8D4E3",
             "minorgridcolor": "#C8D4E3",
             "startlinecolor": "#2a3f5f"
            },
            "baxis": {
             "endlinecolor": "#2a3f5f",
             "gridcolor": "#C8D4E3",
             "linecolor": "#C8D4E3",
             "minorgridcolor": "#C8D4E3",
             "startlinecolor": "#2a3f5f"
            },
            "type": "carpet"
           }
          ],
          "choropleth": [
           {
            "colorbar": {
             "outlinewidth": 0,
             "ticks": ""
            },
            "type": "choropleth"
           }
          ],
          "contour": [
           {
            "colorbar": {
             "outlinewidth": 0,
             "ticks": ""
            },
            "colorscale": [
             [
              0,
              "#0d0887"
             ],
             [
              0.1111111111111111,
              "#46039f"
             ],
             [
              0.2222222222222222,
              "#7201a8"
             ],
             [
              0.3333333333333333,
              "#9c179e"
             ],
             [
              0.4444444444444444,
              "#bd3786"
             ],
             [
              0.5555555555555556,
              "#d8576b"
             ],
             [
              0.6666666666666666,
              "#ed7953"
             ],
             [
              0.7777777777777778,
              "#fb9f3a"
             ],
             [
              0.8888888888888888,
              "#fdca26"
             ],
             [
              1,
              "#f0f921"
             ]
            ],
            "type": "contour"
           }
          ],
          "contourcarpet": [
           {
            "colorbar": {
             "outlinewidth": 0,
             "ticks": ""
            },
            "type": "contourcarpet"
           }
          ],
          "heatmap": [
           {
            "colorbar": {
             "outlinewidth": 0,
             "ticks": ""
            },
            "colorscale": [
             [
              0,
              "#0d0887"
             ],
             [
              0.1111111111111111,
              "#46039f"
             ],
             [
              0.2222222222222222,
              "#7201a8"
             ],
             [
              0.3333333333333333,
              "#9c179e"
             ],
             [
              0.4444444444444444,
              "#bd3786"
             ],
             [
              0.5555555555555556,
              "#d8576b"
             ],
             [
              0.6666666666666666,
              "#ed7953"
             ],
             [
              0.7777777777777778,
              "#fb9f3a"
             ],
             [
              0.8888888888888888,
              "#fdca26"
             ],
             [
              1,
              "#f0f921"
             ]
            ],
            "type": "heatmap"
           }
          ],
          "histogram": [
           {
            "marker": {
             "pattern": {
              "fillmode": "overlay",
              "size": 10,
              "solidity": 0.2
             }
            },
            "type": "histogram"
           }
          ],
          "histogram2d": [
           {
            "colorbar": {
             "outlinewidth": 0,
             "ticks": ""
            },
            "colorscale": [
             [
              0,
              "#0d0887"
             ],
             [
              0.1111111111111111,
              "#46039f"
             ],
             [
              0.2222222222222222,
              "#7201a8"
             ],
             [
              0.3333333333333333,
              "#9c179e"
             ],
             [
              0.4444444444444444,
              "#bd3786"
             ],
             [
              0.5555555555555556,
              "#d8576b"
             ],
             [
              0.6666666666666666,
              "#ed7953"
             ],
             [
              0.7777777777777778,
              "#fb9f3a"
             ],
             [
              0.8888888888888888,
              "#fdca26"
             ],
             [
              1,
              "#f0f921"
             ]
            ],
            "type": "histogram2d"
           }
          ],
          "histogram2dcontour": [
           {
            "colorbar": {
             "outlinewidth": 0,
             "ticks": ""
            },
            "colorscale": [
             [
              0,
              "#0d0887"
             ],
             [
              0.1111111111111111,
              "#46039f"
             ],
             [
              0.2222222222222222,
              "#7201a8"
             ],
             [
              0.3333333333333333,
              "#9c179e"
             ],
             [
              0.4444444444444444,
              "#bd3786"
             ],
             [
              0.5555555555555556,
              "#d8576b"
             ],
             [
              0.6666666666666666,
              "#ed7953"
             ],
             [
              0.7777777777777778,
              "#fb9f3a"
             ],
             [
              0.8888888888888888,
              "#fdca26"
             ],
             [
              1,
              "#f0f921"
             ]
            ],
            "type": "histogram2dcontour"
           }
          ],
          "mesh3d": [
           {
            "colorbar": {
             "outlinewidth": 0,
             "ticks": ""
            },
            "type": "mesh3d"
           }
          ],
          "parcoords": [
           {
            "line": {
             "colorbar": {
              "outlinewidth": 0,
              "ticks": ""
             }
            },
            "type": "parcoords"
           }
          ],
          "pie": [
           {
            "automargin": true,
            "type": "pie"
           }
          ],
          "scatter": [
           {
            "fillpattern": {
             "fillmode": "overlay",
             "size": 10,
             "solidity": 0.2
            },
            "type": "scatter"
           }
          ],
          "scatter3d": [
           {
            "line": {
             "colorbar": {
              "outlinewidth": 0,
              "ticks": ""
             }
            },
            "marker": {
             "colorbar": {
              "outlinewidth": 0,
              "ticks": ""
             }
            },
            "type": "scatter3d"
           }
          ],
          "scattercarpet": [
           {
            "marker": {
             "colorbar": {
              "outlinewidth": 0,
              "ticks": ""
             }
            },
            "type": "scattercarpet"
           }
          ],
          "scattergeo": [
           {
            "marker": {
             "colorbar": {
              "outlinewidth": 0,
              "ticks": ""
             }
            },
            "type": "scattergeo"
           }
          ],
          "scattergl": [
           {
            "marker": {
             "colorbar": {
              "outlinewidth": 0,
              "ticks": ""
             }
            },
            "type": "scattergl"
           }
          ],
          "scattermap": [
           {
            "marker": {
             "colorbar": {
              "outlinewidth": 0,
              "ticks": ""
             }
            },
            "type": "scattermap"
           }
          ],
          "scattermapbox": [
           {
            "marker": {
             "colorbar": {
              "outlinewidth": 0,
              "ticks": ""
             }
            },
            "type": "scattermapbox"
           }
          ],
          "scatterpolar": [
           {
            "marker": {
             "colorbar": {
              "outlinewidth": 0,
              "ticks": ""
             }
            },
            "type": "scatterpolar"
           }
          ],
          "scatterpolargl": [
           {
            "marker": {
             "colorbar": {
              "outlinewidth": 0,
              "ticks": ""
             }
            },
            "type": "scatterpolargl"
           }
          ],
          "scatterternary": [
           {
            "marker": {
             "colorbar": {
              "outlinewidth": 0,
              "ticks": ""
             }
            },
            "type": "scatterternary"
           }
          ],
          "surface": [
           {
            "colorbar": {
             "outlinewidth": 0,
             "ticks": ""
            },
            "colorscale": [
             [
              0,
              "#0d0887"
             ],
             [
              0.1111111111111111,
              "#46039f"
             ],
             [
              0.2222222222222222,
              "#7201a8"
             ],
             [
              0.3333333333333333,
              "#9c179e"
             ],
             [
              0.4444444444444444,
              "#bd3786"
             ],
             [
              0.5555555555555556,
              "#d8576b"
             ],
             [
              0.6666666666666666,
              "#ed7953"
             ],
             [
              0.7777777777777778,
              "#fb9f3a"
             ],
             [
              0.8888888888888888,
              "#fdca26"
             ],
             [
              1,
              "#f0f921"
             ]
            ],
            "type": "surface"
           }
          ],
          "table": [
           {
            "cells": {
             "fill": {
              "color": "#EBF0F8"
             },
             "line": {
              "color": "white"
             }
            },
            "header": {
             "fill": {
              "color": "#C8D4E3"
             },
             "line": {
              "color": "white"
             }
            },
            "type": "table"
           }
          ]
         },
         "layout": {
          "annotationdefaults": {
           "arrowcolor": "#2a3f5f",
           "arrowhead": 0,
           "arrowwidth": 1
          },
          "autotypenumbers": "strict",
          "coloraxis": {
           "colorbar": {
            "outlinewidth": 0,
            "ticks": ""
           }
          },
          "colorscale": {
           "diverging": [
            [
             0,
             "#8e0152"
            ],
            [
             0.1,
             "#c51b7d"
            ],
            [
             0.2,
             "#de77ae"
            ],
            [
             0.3,
             "#f1b6da"
            ],
            [
             0.4,
             "#fde0ef"
            ],
            [
             0.5,
             "#f7f7f7"
            ],
            [
             0.6,
             "#e6f5d0"
            ],
            [
             0.7,
             "#b8e186"
            ],
            [
             0.8,
             "#7fbc41"
            ],
            [
             0.9,
             "#4d9221"
            ],
            [
             1,
             "#276419"
            ]
           ],
           "sequential": [
            [
             0,
             "#0d0887"
            ],
            [
             0.1111111111111111,
             "#46039f"
            ],
            [
             0.2222222222222222,
             "#7201a8"
            ],
            [
             0.3333333333333333,
             "#9c179e"
            ],
            [
             0.4444444444444444,
             "#bd3786"
            ],
            [
             0.5555555555555556,
             "#d8576b"
            ],
            [
             0.6666666666666666,
             "#ed7953"
            ],
            [
             0.7777777777777778,
             "#fb9f3a"
            ],
            [
             0.8888888888888888,
             "#fdca26"
            ],
            [
             1,
             "#f0f921"
            ]
           ],
           "sequentialminus": [
            [
             0,
             "#0d0887"
            ],
            [
             0.1111111111111111,
             "#46039f"
            ],
            [
             0.2222222222222222,
             "#7201a8"
            ],
            [
             0.3333333333333333,
             "#9c179e"
            ],
            [
             0.4444444444444444,
             "#bd3786"
            ],
            [
             0.5555555555555556,
             "#d8576b"
            ],
            [
             0.6666666666666666,
             "#ed7953"
            ],
            [
             0.7777777777777778,
             "#fb9f3a"
            ],
            [
             0.8888888888888888,
             "#fdca26"
            ],
            [
             1,
             "#f0f921"
            ]
           ]
          },
          "colorway": [
           "#636efa",
           "#EF553B",
           "#00cc96",
           "#ab63fa",
           "#FFA15A",
           "#19d3f3",
           "#FF6692",
           "#B6E880",
           "#FF97FF",
           "#FECB52"
          ],
          "font": {
           "color": "#2a3f5f"
          },
          "geo": {
           "bgcolor": "white",
           "lakecolor": "white",
           "landcolor": "white",
           "showlakes": true,
           "showland": true,
           "subunitcolor": "#C8D4E3"
          },
          "hoverlabel": {
           "align": "left"
          },
          "hovermode": "closest",
          "mapbox": {
           "style": "light"
          },
          "paper_bgcolor": "white",
          "plot_bgcolor": "white",
          "polar": {
           "angularaxis": {
            "gridcolor": "#EBF0F8",
            "linecolor": "#EBF0F8",
            "ticks": ""
           },
           "bgcolor": "white",
           "radialaxis": {
            "gridcolor": "#EBF0F8",
            "linecolor": "#EBF0F8",
            "ticks": ""
           }
          },
          "scene": {
           "xaxis": {
            "backgroundcolor": "white",
            "gridcolor": "#DFE8F3",
            "gridwidth": 2,
            "linecolor": "#EBF0F8",
            "showbackground": true,
            "ticks": "",
            "zerolinecolor": "#EBF0F8"
           },
           "yaxis": {
            "backgroundcolor": "white",
            "gridcolor": "#DFE8F3",
            "gridwidth": 2,
            "linecolor": "#EBF0F8",
            "showbackground": true,
            "ticks": "",
            "zerolinecolor": "#EBF0F8"
           },
           "zaxis": {
            "backgroundcolor": "white",
            "gridcolor": "#DFE8F3",
            "gridwidth": 2,
            "linecolor": "#EBF0F8",
            "showbackground": true,
            "ticks": "",
            "zerolinecolor": "#EBF0F8"
           }
          },
          "shapedefaults": {
           "line": {
            "color": "#2a3f5f"
           }
          },
          "ternary": {
           "aaxis": {
            "gridcolor": "#DFE8F3",
            "linecolor": "#A2B1C6",
            "ticks": ""
           },
           "baxis": {
            "gridcolor": "#DFE8F3",
            "linecolor": "#A2B1C6",
            "ticks": ""
           },
           "bgcolor": "white",
           "caxis": {
            "gridcolor": "#DFE8F3",
            "linecolor": "#A2B1C6",
            "ticks": ""
           }
          },
          "title": {
           "x": 0.05
          },
          "xaxis": {
           "automargin": true,
           "gridcolor": "#EBF0F8",
           "linecolor": "#EBF0F8",
           "ticks": "",
           "title": {
            "standoff": 15
           },
           "zerolinecolor": "#EBF0F8",
           "zerolinewidth": 2
          },
          "yaxis": {
           "automargin": true,
           "gridcolor": "#EBF0F8",
           "linecolor": "#EBF0F8",
           "ticks": "",
           "title": {
            "standoff": 15
           },
           "zerolinecolor": "#EBF0F8",
           "zerolinewidth": 2
          }
         }
        },
        "title": {
         "text": "Top 5 documentos más similares a: \"¿Cuál es la comida favorita en Robledo?\""
        },
        "xaxis": {
         "anchor": "y",
         "domain": [
          0,
          1
         ],
         "title": {
          "text": "Similitud del coseno"
         }
        },
        "yaxis": {
         "anchor": "x",
         "categoryorder": "total ascending",
         "domain": [
          0,
          1
         ],
         "title": {
          "text": "Documento"
         }
        }
       }
      }
     },
     "metadata": {},
     "output_type": "display_data"
    },
    {
     "data": {
      "text/html": [
       "<div>\n",
       "<style scoped>\n",
       "    .dataframe tbody tr th:only-of-type {\n",
       "        vertical-align: middle;\n",
       "    }\n",
       "\n",
       "    .dataframe tbody tr th {\n",
       "        vertical-align: top;\n",
       "    }\n",
       "\n",
       "    .dataframe thead th {\n",
       "        text-align: right;\n",
       "    }\n",
       "</style>\n",
       "<table border=\"1\" class=\"dataframe\">\n",
       "  <thead>\n",
       "    <tr style=\"text-align: right;\">\n",
       "      <th></th>\n",
       "      <th>documento</th>\n",
       "      <th>similitud</th>\n",
       "      <th>tipo</th>\n",
       "    </tr>\n",
       "  </thead>\n",
       "  <tbody>\n",
       "    <tr>\n",
       "      <th>0</th>\n",
       "      <td>Robledo 13.5 150000 Empanadas Cerro El Volador...</td>\n",
       "      <td>0.692416</td>\n",
       "      <td>Commune</td>\n",
       "    </tr>\n",
       "    <tr>\n",
       "      <th>1</th>\n",
       "      <td>Bello 142.36 532154 Arepa de Chocolo Puerta de...</td>\n",
       "      <td>0.620638</td>\n",
       "      <td>Municipality</td>\n",
       "    </tr>\n",
       "    <tr>\n",
       "      <th>2</th>\n",
       "      <td>Castilla 6.2 110000 Frijoles con Chicharrón Pa...</td>\n",
       "      <td>0.614378</td>\n",
       "      <td>Commune</td>\n",
       "    </tr>\n",
       "    <tr>\n",
       "      <th>3</th>\n",
       "      <td>Manrique 7.5 120000 Chorizo Antioqueño Parque ...</td>\n",
       "      <td>0.605474</td>\n",
       "      <td>Commune</td>\n",
       "    </tr>\n",
       "    <tr>\n",
       "      <th>4</th>\n",
       "      <td>El Poblado 23.1 130000 Sancocho Antioqueño Par...</td>\n",
       "      <td>0.602082</td>\n",
       "      <td>Commune</td>\n",
       "    </tr>\n",
       "  </tbody>\n",
       "</table>\n",
       "</div>"
      ],
      "text/plain": [
       "                                           documento  similitud          tipo\n",
       "0  Robledo 13.5 150000 Empanadas Cerro El Volador...   0.692416       Commune\n",
       "1  Bello 142.36 532154 Arepa de Chocolo Puerta de...   0.620638  Municipality\n",
       "2  Castilla 6.2 110000 Frijoles con Chicharrón Pa...   0.614378       Commune\n",
       "3  Manrique 7.5 120000 Chorizo Antioqueño Parque ...   0.605474       Commune\n",
       "4  El Poblado 23.1 130000 Sancocho Antioqueño Par...   0.602082       Commune"
      ]
     },
     "execution_count": 15,
     "metadata": {},
     "output_type": "execute_result"
    }
   ],
   "source": [
    "# Función para probar consultas y visualizar resultados\n",
    "def test_query(query_text, top_k=5):\n",
    "    # Obtener embedding de la consulta\n",
    "    query_embedding = embeddings.embed_query(query_text)\n",
    "    \n",
    "    # Calcular similitud con todos los documentos\n",
    "    similarities = []\n",
    "    for emb in embeddings_array:\n",
    "        similarity = cosine_similarity(query_embedding, emb)\n",
    "        similarities.append(similarity)\n",
    "    \n",
    "    # Crear dataframe con resultados\n",
    "    results_df = pd.DataFrame({\n",
    "        'documento': results['documents'],\n",
    "        'similitud': similarities,\n",
    "        'tipo': location_types\n",
    "    })\n",
    "    \n",
    "    # Ordenar por similitud\n",
    "    results_df = results_df.sort_values('similitud', ascending=False).reset_index(drop=True)\n",
    "    \n",
    "    # Crear gráfico de barras para los top_k resultados\n",
    "    top_results = results_df.head(top_k)\n",
    "    \n",
    "    fig = px.bar(\n",
    "        top_results, \n",
    "        y='documento', \n",
    "        x='similitud',\n",
    "        color='tipo',\n",
    "        orientation='h',\n",
    "        title=f'Top {top_k} documentos más similares a: \"{query_text}\"',\n",
    "        labels={'similitud': 'Similitud del coseno', 'documento': 'Documento'},\n",
    "        template='plotly_white'\n",
    "    )\n",
    "    \n",
    "    fig.update_layout(\n",
    "        yaxis={'categoryorder':'total ascending'},\n",
    "        xaxis_title=\"Similitud del coseno\",\n",
    "        yaxis_title=\"Documento\"\n",
    "    )\n",
    "    \n",
    "    fig.show()\n",
    "    \n",
    "    return top_results\n",
    "\n",
    "# Probar con una consulta sobre Robledo\n",
    "query = \"¿Cuál es la comida favorita en Robledo?\"\n",
    "print(f\"Consulta: '{query}'\")\n",
    "test_query(query)"
   ]
  },
  {
   "cell_type": "markdown",
   "id": "d8879c7b",
   "metadata": {},
   "source": [
    "## Conclusiones\n",
    "\n",
    "En este notebook hemos visto:\n",
    "\n",
    "1. Cómo acceder a los documentos almacenados en ChromaDB\n",
    "2. La estructura y dimensionalidad de los embeddings\n",
    "3. Cómo visualizar embeddings de alta dimensionalidad utilizando PCA y t-SNE\n",
    "4. La similitud semántica entre documentos a través de una matriz de similitud del coseno\n",
    "5. Cómo funciona una consulta real, mostrando qué documentos son más similares\n",
    "\n",
    "Esta visualización nos ayuda a entender mejor cómo el sistema RAG selecciona los documentos más relevantes para responder a las preguntas del usuario."
   ]
  }
 ],
 "metadata": {
  "kernelspec": {
   "display_name": ".venv",
   "language": "python",
   "name": "python3"
  },
  "language_info": {
   "codemirror_mode": {
    "name": "ipython",
    "version": 3
   },
   "file_extension": ".py",
   "mimetype": "text/x-python",
   "name": "python",
   "nbconvert_exporter": "python",
   "pygments_lexer": "ipython3",
   "version": "3.12.7"
  }
 },
 "nbformat": 4,
 "nbformat_minor": 5
}
